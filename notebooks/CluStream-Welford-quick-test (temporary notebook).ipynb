{
 "cells": [
  {
   "cell_type": "code",
   "execution_count": 1,
   "id": "6efcd647",
   "metadata": {},
   "outputs": [],
   "source": [
    "import pandas as pd\n",
    "import time\n",
    "from river import cluster\n",
    "from river import metrics\n",
    "from river.stream import iter_pandas"
   ]
  },
  {
   "cell_type": "code",
   "execution_count": 2,
   "id": "b0c9685a",
   "metadata": {
    "scrolled": true
   },
   "outputs": [],
   "source": [
    "data = pd.read_csv(\"../datasets/agr_a_20k.csv\")\n",
    "features = data.columns[:-2]\n",
    "stream = iter_pandas(X=data[features], y=data['class'])"
   ]
  },
  {
   "cell_type": "code",
   "execution_count": 3,
   "id": "533a9ea1",
   "metadata": {},
   "outputs": [
    {
     "data": {
      "text/html": [
       "<div>\n",
       "<style scoped>\n",
       "    .dataframe tbody tr th:only-of-type {\n",
       "        vertical-align: middle;\n",
       "    }\n",
       "\n",
       "    .dataframe tbody tr th {\n",
       "        vertical-align: top;\n",
       "    }\n",
       "\n",
       "    .dataframe thead th {\n",
       "        text-align: right;\n",
       "    }\n",
       "</style>\n",
       "<table border=\"1\" class=\"dataframe\">\n",
       "  <thead>\n",
       "    <tr style=\"text-align: right;\">\n",
       "      <th></th>\n",
       "      <th>salary</th>\n",
       "      <th>commission</th>\n",
       "      <th>age</th>\n",
       "      <th>elevel</th>\n",
       "      <th>car</th>\n",
       "      <th>zipcode</th>\n",
       "      <th>hvalue</th>\n",
       "      <th>hyears</th>\n",
       "      <th>loan</th>\n",
       "      <th>class</th>\n",
       "    </tr>\n",
       "  </thead>\n",
       "  <tbody>\n",
       "    <tr>\n",
       "      <th>0</th>\n",
       "      <td>110499.735409</td>\n",
       "      <td>0.000000</td>\n",
       "      <td>54</td>\n",
       "      <td>3</td>\n",
       "      <td>6</td>\n",
       "      <td>4</td>\n",
       "      <td>135000.0</td>\n",
       "      <td>30</td>\n",
       "      <td>354724.182530</td>\n",
       "      <td>1</td>\n",
       "    </tr>\n",
       "    <tr>\n",
       "      <th>1</th>\n",
       "      <td>140893.779095</td>\n",
       "      <td>0.000000</td>\n",
       "      <td>44</td>\n",
       "      <td>4</td>\n",
       "      <td>12</td>\n",
       "      <td>7</td>\n",
       "      <td>135000.0</td>\n",
       "      <td>2</td>\n",
       "      <td>395015.339020</td>\n",
       "      <td>1</td>\n",
       "    </tr>\n",
       "    <tr>\n",
       "      <th>2</th>\n",
       "      <td>119159.651677</td>\n",
       "      <td>0.000000</td>\n",
       "      <td>49</td>\n",
       "      <td>2</td>\n",
       "      <td>0</td>\n",
       "      <td>3</td>\n",
       "      <td>135000.0</td>\n",
       "      <td>22</td>\n",
       "      <td>122025.085242</td>\n",
       "      <td>1</td>\n",
       "    </tr>\n",
       "    <tr>\n",
       "      <th>3</th>\n",
       "      <td>20000.000000</td>\n",
       "      <td>52593.636537</td>\n",
       "      <td>56</td>\n",
       "      <td>0</td>\n",
       "      <td>19</td>\n",
       "      <td>1</td>\n",
       "      <td>135000.0</td>\n",
       "      <td>30</td>\n",
       "      <td>99629.621457</td>\n",
       "      <td>1</td>\n",
       "    </tr>\n",
       "    <tr>\n",
       "      <th>4</th>\n",
       "      <td>93956.320488</td>\n",
       "      <td>0.000000</td>\n",
       "      <td>59</td>\n",
       "      <td>1</td>\n",
       "      <td>6</td>\n",
       "      <td>1</td>\n",
       "      <td>135000.0</td>\n",
       "      <td>1</td>\n",
       "      <td>458679.826238</td>\n",
       "      <td>0</td>\n",
       "    </tr>\n",
       "  </tbody>\n",
       "</table>\n",
       "</div>"
      ],
      "text/plain": [
       "          salary    commission  age  elevel  car  zipcode    hvalue  hyears  \\\n",
       "0  110499.735409      0.000000   54       3    6        4  135000.0      30   \n",
       "1  140893.779095      0.000000   44       4   12        7  135000.0       2   \n",
       "2  119159.651677      0.000000   49       2    0        3  135000.0      22   \n",
       "3   20000.000000  52593.636537   56       0   19        1  135000.0      30   \n",
       "4   93956.320488      0.000000   59       1    6        1  135000.0       1   \n",
       "\n",
       "            loan  class  \n",
       "0  354724.182530      1  \n",
       "1  395015.339020      1  \n",
       "2  122025.085242      1  \n",
       "3   99629.621457      1  \n",
       "4  458679.826238      0  "
      ]
     },
     "execution_count": 3,
     "metadata": {},
     "output_type": "execute_result"
    }
   ],
   "source": [
    "data.head()"
   ]
  },
  {
   "cell_type": "code",
   "execution_count": 4,
   "id": "a60138fe",
   "metadata": {},
   "outputs": [
    {
     "name": "stdout",
     "output_type": "stream",
     "text": [
      "3.3339529037475586\n",
      "33.3 KB\n"
     ]
    }
   ],
   "source": [
    "clustream = cluster.CluStream(time_window=10,\n",
    "                              max_micro_clusters=6,\n",
    "                              n_macro_clusters=2,\n",
    "                              time_gap=2,\n",
    "                              seed=0,\n",
    "                              halflife=0.5)\n",
    "\n",
    "clustream_rand = metrics.Rand()\n",
    "\n",
    "start_1 = time.time()\n",
    "for sample_cnt, (x, y_true) in enumerate(stream):\n",
    "    if sample_cnt <= 199:\n",
    "        clustream.learn_one(x)\n",
    "    else:\n",
    "        clustream.learn_one(x)\n",
    "        y_pred = clustream.predict_one(x)\n",
    "        clustream_rand.update(y_true, y_pred)\n",
    "end_1 = time.time()\n",
    "print(end_1 - start_1)\n",
    "print(clustream._memory_usage)"
   ]
  },
  {
   "cell_type": "code",
   "execution_count": 5,
   "id": "3a79c68c",
   "metadata": {},
   "outputs": [
    {
     "data": {
      "text/plain": [
       "    0     1       \n",
       "0   126   10,260  \n",
       "1   116    9,298  "
      ]
     },
     "execution_count": 5,
     "metadata": {},
     "output_type": "execute_result"
    }
   ],
   "source": [
    "clustream_rand.cm"
   ]
  },
  {
   "cell_type": "code",
   "execution_count": 6,
   "id": "dad11b68",
   "metadata": {},
   "outputs": [
    {
     "name": "stdout",
     "output_type": "stream",
     "text": [
      "Rand: 0.5011306866329848\n"
     ]
    }
   ],
   "source": [
    "print(clustream_rand)"
   ]
  }
 ],
 "metadata": {
  "kernelspec": {
   "display_name": "river",
   "language": "python",
   "name": "river"
  },
  "language_info": {
   "codemirror_mode": {
    "name": "ipython",
    "version": 3
   },
   "file_extension": ".py",
   "mimetype": "text/x-python",
   "name": "python",
   "nbconvert_exporter": "python",
   "pygments_lexer": "ipython3",
   "version": "3.9.12"
  }
 },
 "nbformat": 4,
 "nbformat_minor": 5
}
