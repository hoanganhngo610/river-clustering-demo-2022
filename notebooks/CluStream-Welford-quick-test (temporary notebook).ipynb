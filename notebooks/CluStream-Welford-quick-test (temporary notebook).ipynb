{
 "cells": [
  {
   "cell_type": "code",
   "execution_count": 1,
   "id": "6efcd647",
   "metadata": {},
   "outputs": [],
   "source": [
    "import pandas as pd\n",
    "import time\n",
    "from river import cluster\n",
    "from river import metrics\n",
    "from river.stream import iter_pandas"
   ]
  },
  {
   "cell_type": "code",
   "execution_count": 2,
   "id": "b0c9685a",
   "metadata": {},
   "outputs": [
    {
     "name": "stderr",
     "output_type": "stream",
     "text": [
      "/Users/ngohoanganh/Desktop/AY2022-2023 (M2)/River and related material/river-personal-dev/Untitled/river/stats/mean.py:63: RuntimeWarning: invalid value encountered in long_scalars\n",
      "  self._mean += (w / self.n) * (x - self._mean)\n"
     ]
    },
    {
     "ename": "KeyError",
     "evalue": "-1",
     "output_type": "error",
     "traceback": [
      "\u001b[0;31m---------------------------------------------------------------------------\u001b[0m",
      "\u001b[0;31mKeyError\u001b[0m                                  Traceback (most recent call last)",
      "Input \u001b[0;32mIn [2]\u001b[0m, in \u001b[0;36m<cell line: 13>\u001b[0;34m()\u001b[0m\n\u001b[1;32m     12\u001b[0m start_1 \u001b[38;5;241m=\u001b[39m time\u001b[38;5;241m.\u001b[39mtime()\n\u001b[1;32m     13\u001b[0m \u001b[38;5;28;01mfor\u001b[39;00m sample_cnt, (x, y_true) \u001b[38;5;129;01min\u001b[39;00m \u001b[38;5;28menumerate\u001b[39m(stream):\n\u001b[0;32m---> 14\u001b[0m     \u001b[43mclustream\u001b[49m\u001b[38;5;241;43m.\u001b[39;49m\u001b[43mlearn_one\u001b[49m\u001b[43m(\u001b[49m\u001b[43mx\u001b[49m\u001b[43m,\u001b[49m\u001b[43m \u001b[49m\u001b[43my_true\u001b[49m\u001b[43m)\u001b[49m\n\u001b[1;32m     15\u001b[0m end_1 \u001b[38;5;241m=\u001b[39m time\u001b[38;5;241m.\u001b[39mtime()\n\u001b[1;32m     16\u001b[0m \u001b[38;5;28mprint\u001b[39m(end_1 \u001b[38;5;241m-\u001b[39m start_1)\n",
      "File \u001b[0;32m~/Desktop/AY2022-2023 (M2)/River and related material/river-personal-dev/Untitled/river/cluster/clustream.py:192\u001b[0m, in \u001b[0;36mCluStream.learn_one\u001b[0;34m(self, x, w)\u001b[0m\n\u001b[1;32m    190\u001b[0m \u001b[38;5;66;03m# Determine the closest micro-cluster with respect to the new point instance\u001b[39;00m\n\u001b[1;32m    191\u001b[0m closest_id, closest_dist \u001b[38;5;241m=\u001b[39m \u001b[38;5;28mself\u001b[39m\u001b[38;5;241m.\u001b[39m_get_closest_mc(x)\n\u001b[0;32m--> 192\u001b[0m closest_mc \u001b[38;5;241m=\u001b[39m \u001b[38;5;28;43mself\u001b[39;49m\u001b[38;5;241;43m.\u001b[39;49m\u001b[43m_micro_clusters\u001b[49m\u001b[43m[\u001b[49m\u001b[43mclosest_id\u001b[49m\u001b[43m]\u001b[49m\n\u001b[1;32m    194\u001b[0m \u001b[38;5;66;03m# Check whether the new instance fits into the closest micro-cluster\u001b[39;00m\n\u001b[1;32m    195\u001b[0m \u001b[38;5;28;01mif\u001b[39;00m closest_mc\u001b[38;5;241m.\u001b[39mweight \u001b[38;5;241m==\u001b[39m \u001b[38;5;241m1\u001b[39m:\n",
      "\u001b[0;31mKeyError\u001b[0m: -1"
     ]
    }
   ],
   "source": [
    "data = pd.read_csv(\"../datasets/agr_a_20k.csv\")\n",
    "features = data.columns[:-2]\n",
    "stream = iter_pandas(X=data[features], y=data['class'])\n",
    "\n",
    "\n",
    "clustream = cluster.CluStream(time_window=10,\n",
    "                              max_micro_clusters=500,\n",
    "                              n_macro_clusters=10,\n",
    "                              seed=0,\n",
    "                              halflife=0.4)\n",
    "\n",
    "start_1 = time.time()\n",
    "for sample_cnt, (x, y_true) in enumerate(stream):\n",
    "    clustream.learn_one(x, y_true)\n",
    "end_1 = time.time()\n",
    "print(end_1 - start_1)\n",
    "print(clustream._memory_usage)"
   ]
  },
  {
   "cell_type": "code",
   "execution_count": null,
   "id": "db23fe4e",
   "metadata": {},
   "outputs": [],
   "source": [
    "clustream.predict_one(x)"
   ]
  },
  {
   "cell_type": "code",
   "execution_count": null,
   "id": "e87199ee",
   "metadata": {},
   "outputs": [],
   "source": [
    "clustream.centers"
   ]
  }
 ],
 "metadata": {
  "kernelspec": {
   "display_name": "river",
   "language": "python",
   "name": "river"
  },
  "language_info": {
   "codemirror_mode": {
    "name": "ipython",
    "version": 3
   },
   "file_extension": ".py",
   "mimetype": "text/x-python",
   "name": "python",
   "nbconvert_exporter": "python",
   "pygments_lexer": "ipython3",
   "version": "3.9.12"
  }
 },
 "nbformat": 4,
 "nbformat_minor": 5
}
