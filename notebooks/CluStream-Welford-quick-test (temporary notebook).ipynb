{
 "cells": [
  {
   "cell_type": "code",
   "execution_count": 1,
   "id": "6efcd647",
   "metadata": {},
   "outputs": [],
   "source": [
    "import pandas as pd\n",
    "import time\n",
    "from river import cluster\n",
    "from river import metrics\n",
    "from river.stream import iter_pandas"
   ]
  },
  {
   "cell_type": "code",
   "execution_count": 2,
   "id": "b0c9685a",
   "metadata": {
    "scrolled": true
   },
   "outputs": [
    {
     "name": "stdout",
     "output_type": "stream",
     "text": [
      "36.91053509712219\n",
      "1.95 MB\n"
     ]
    }
   ],
   "source": [
    "data = pd.read_csv(\"../datasets/agr_a_20k.csv\")\n",
    "features = data.columns[:-2]\n",
    "stream = iter_pandas(X=data[features], y=data['class'])\n",
    "\n",
    "\n",
    "clustream = cluster.CluStream(time_window=10,\n",
    "                              max_micro_clusters=500,\n",
    "                              n_macro_clusters=5,\n",
    "                              seed=0,\n",
    "                              halflife=0.4)\n",
    "\n",
    "start_1 = time.time()\n",
    "for sample_cnt, (x, y_true) in enumerate(stream):\n",
    "    clustream.learn_one(x)\n",
    "end_1 = time.time()\n",
    "print(end_1 - start_1)\n",
    "print(clustream._memory_usage)"
   ]
  },
  {
   "cell_type": "code",
   "execution_count": 3,
   "id": "e87199ee",
   "metadata": {},
   "outputs": [
    {
     "data": {
      "text/plain": [
       "1"
      ]
     },
     "execution_count": 3,
     "metadata": {},
     "output_type": "execute_result"
    }
   ],
   "source": [
    "clustream.predict_one(x)"
   ]
  },
  {
   "cell_type": "code",
   "execution_count": 9,
   "id": "aade9811",
   "metadata": {},
   "outputs": [],
   "source": [
    "# Access micro cluster centers (if necessary)\n",
    "# {i: clustream.micro_clusters[i].center for i in clustream.micro_clusters.keys()}"
   ]
  }
 ],
 "metadata": {
  "kernelspec": {
   "display_name": "river",
   "language": "python",
   "name": "river"
  },
  "language_info": {
   "codemirror_mode": {
    "name": "ipython",
    "version": 3
   },
   "file_extension": ".py",
   "mimetype": "text/x-python",
   "name": "python",
   "nbconvert_exporter": "python",
   "pygments_lexer": "ipython3",
   "version": "3.9.12"
  }
 },
 "nbformat": 4,
 "nbformat_minor": 5
}
