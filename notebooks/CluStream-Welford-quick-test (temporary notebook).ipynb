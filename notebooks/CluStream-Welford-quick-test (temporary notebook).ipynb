{
 "cells": [
  {
   "cell_type": "markdown",
   "id": "d19f30d1",
   "metadata": {},
   "source": [
    "### Note:\n",
    "The current version of this notebook uses the branch `clustream-benchmark` to compare the two versions of `CluStream`: the original version and the version using Welford's algorithm to register the variance of the data points and time stamps.\n",
    "\n",
    "To install this version locally, switch to this branch and from the root, install locally using \n",
    "\n",
    "```\n",
    "pip install -e \".[dev]\"\n",
    "```"
   ]
  },
  {
   "cell_type": "code",
   "execution_count": 1,
   "id": "6efcd647",
   "metadata": {},
   "outputs": [],
   "source": [
    "import pandas as pd\n",
    "import time\n",
    "from river import cluster\n",
    "from river import metrics\n",
    "from river.stream import iter_pandas"
   ]
  },
  {
   "cell_type": "code",
   "execution_count": 2,
   "id": "a60138fe",
   "metadata": {},
   "outputs": [
    {
     "name": "stdout",
     "output_type": "stream",
     "text": [
      "3.8139219284057617\n",
      "28.74 KB\n"
     ]
    }
   ],
   "source": [
    "data = pd.read_csv(\"../datasets/agr_a_20k.csv\")\n",
    "features = data.columns[:-2]\n",
    "stream = iter_pandas(X=data[features], y=data['class'])\n",
    "\n",
    "clustream_welford = cluster.CluStreamWelford(time_window=10,\n",
    "                              max_micro_clusters=5,\n",
    "                              n_macro_clusters=2,\n",
    "                              time_gap=2,\n",
    "                              seed=0,\n",
    "                              halflife=0.5)\n",
    "\n",
    "clustream_welford_rand = metrics.Rand()\n",
    "\n",
    "start_1 = time.time()\n",
    "for sample_cnt_clustream_welford, (x, y_true) in enumerate(stream):\n",
    "    if sample_cnt_clustream_welford <= 199:\n",
    "        clustream_welford.learn_one(x)\n",
    "    else:\n",
    "        clustream_welford.learn_one(x)\n",
    "        y_pred = clustream_welford.predict_one(x)\n",
    "        clustream_welford_rand.update(y_true, y_pred)\n",
    "end_1 = time.time()\n",
    "print(end_1 - start_1)\n",
    "print(clustream_welford._memory_usage)"
   ]
  },
  {
   "cell_type": "code",
   "execution_count": 3,
   "id": "54fff49b",
   "metadata": {},
   "outputs": [
    {
     "name": "stdout",
     "output_type": "stream",
     "text": [
      "2.3557560443878174\n",
      "17.38 KB\n"
     ]
    }
   ],
   "source": [
    "data = pd.read_csv(\"../datasets/agr_a_20k.csv\")\n",
    "features = data.columns[:-2]\n",
    "stream = iter_pandas(X=data[features], y=data['class'])\n",
    "\n",
    "clustream_original = cluster.CluStreamOriginal(time_window=10,\n",
    "                              max_micro_clusters=5,\n",
    "                              n_macro_clusters=2,\n",
    "                              time_gap=2,\n",
    "                              seed=0,\n",
    "                              halflife=0.5)\n",
    "\n",
    "clustream_original_rand = metrics.Rand()\n",
    "\n",
    "start_2 = time.time()\n",
    "for sample_cnt_clustream_original, (x, y_true) in enumerate(stream):\n",
    "    if sample_cnt_clustream_original <= 199:\n",
    "        clustream_original.learn_one(x)\n",
    "    else:\n",
    "        clustream_original.learn_one(x)\n",
    "        y_pred = clustream_original.predict_one(x)\n",
    "        clustream_original_rand.update(y_true, y_pred)\n",
    "end_2 = time.time()\n",
    "print(end_2 - start_2)\n",
    "print(clustream_original._memory_usage)"
   ]
  },
  {
   "cell_type": "code",
   "execution_count": 4,
   "id": "3a79c68c",
   "metadata": {},
   "outputs": [
    {
     "data": {
      "text/plain": [
       "    0       1      \n",
       "0   4,250   6,136  \n",
       "1   4,002   5,412  "
      ]
     },
     "execution_count": 4,
     "metadata": {},
     "output_type": "execute_result"
    }
   ],
   "source": [
    "clustream_welford_rand.cm"
   ]
  },
  {
   "cell_type": "code",
   "execution_count": 5,
   "id": "561c188d",
   "metadata": {},
   "outputs": [
    {
     "data": {
      "text/plain": [
       "    0       1      \n",
       "0   4,250   6,136  \n",
       "1   4,002   5,412  "
      ]
     },
     "execution_count": 5,
     "metadata": {},
     "output_type": "execute_result"
    }
   ],
   "source": [
    "clustream_original_rand.cm"
   ]
  },
  {
   "cell_type": "code",
   "execution_count": 6,
   "id": "dad11b68",
   "metadata": {},
   "outputs": [
    {
     "name": "stdout",
     "output_type": "stream",
     "text": [
      "Rand: 0.5002637313077234\n"
     ]
    }
   ],
   "source": [
    "print(clustream_welford_rand)"
   ]
  },
  {
   "cell_type": "code",
   "execution_count": 7,
   "id": "b057a5b3",
   "metadata": {},
   "outputs": [
    {
     "name": "stdout",
     "output_type": "stream",
     "text": [
      "Rand: 0.5002637313077234\n"
     ]
    }
   ],
   "source": [
    "print(clustream_original_rand)"
   ]
  }
 ],
 "metadata": {
  "kernelspec": {
   "display_name": "river",
   "language": "python",
   "name": "river"
  },
  "language_info": {
   "codemirror_mode": {
    "name": "ipython",
    "version": 3
   },
   "file_extension": ".py",
   "mimetype": "text/x-python",
   "name": "python",
   "nbconvert_exporter": "python",
   "pygments_lexer": "ipython3",
   "version": "3.9.12"
  }
 },
 "nbformat": 4,
 "nbformat_minor": 5
}
