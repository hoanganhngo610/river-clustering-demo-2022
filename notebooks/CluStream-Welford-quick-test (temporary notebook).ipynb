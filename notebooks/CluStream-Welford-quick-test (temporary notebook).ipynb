{
 "cells": [
  {
   "cell_type": "code",
   "execution_count": 1,
   "id": "6efcd647",
   "metadata": {},
   "outputs": [],
   "source": [
    "import pandas as pd\n",
    "import time\n",
    "from river import cluster\n",
    "from river import metrics\n",
    "from river.stream import iter_pandas"
   ]
  },
  {
   "cell_type": "code",
   "execution_count": 2,
   "id": "b0c9685a",
   "metadata": {
    "scrolled": true
   },
   "outputs": [
    {
     "name": "stdout",
     "output_type": "stream",
     "text": [
      "48.19476914405823\n",
      "2.15 MB\n"
     ]
    }
   ],
   "source": [
    "data = pd.read_csv(\"../datasets/agr_a_20k.csv\")\n",
    "features = data.columns[:-2]\n",
    "stream = iter_pandas(X=data[features], y=data['class'])\n",
    "\n",
    "\n",
    "clustream = cluster.CluStream(time_window=10,\n",
    "                              max_micro_clusters=500,\n",
    "                              n_macro_clusters=10,\n",
    "                              time_gap=500,\n",
    "                              seed=0,\n",
    "                              halflife=0.4)\n",
    "\n",
    "start_1 = time.time()\n",
    "for sample_cnt, (x, y_true) in enumerate(stream):\n",
    "    clustream.learn_one(x)\n",
    "end_1 = time.time()\n",
    "print(end_1 - start_1)\n",
    "print(clustream._memory_usage)"
   ]
  },
  {
   "cell_type": "code",
   "execution_count": 3,
   "id": "0da61045",
   "metadata": {},
   "outputs": [
    {
     "data": {
      "text/plain": [
       "{0: defaultdict(functools.partial(<bound method Random.gauss of <random.Random object at 0x1542ef410>>, 0, 1),\n",
       "             {'elevel': 0.9417154046806644,\n",
       "              'car': -1.3965781047011498,\n",
       "              'zipcode': -0.6797144480784211,\n",
       "              'hvalue': 0.3705035674606598,\n",
       "              'salary': -1.016348894188071,\n",
       "              'hyears': -0.07212002278507135,\n",
       "              'commission': 0.17919648727485687,\n",
       "              'age': -0.8310992152709882}),\n",
       " 1: defaultdict(functools.partial(<bound method Random.gauss of <random.Random object at 0x1542ef410>>, 0, 1),\n",
       "             {'elevel': -1.3090373644593587,\n",
       "              'car': 0.1938877412491041,\n",
       "              'zipcode': 0.9932497035351971,\n",
       "              'hvalue': -0.6469816305475048,\n",
       "              'salary': -0.33366798379566953,\n",
       "              'hyears': 1.6456717605826776,\n",
       "              'commission': -0.5588897658482705,\n",
       "              'age': -0.514156663052727}),\n",
       " 2: defaultdict(functools.partial(<bound method Random.gauss of <random.Random object at 0x1542ef410>>, 0, 1),\n",
       "             {'elevel': 2.4041193322985697,\n",
       "              'car': -1.5310825928736305,\n",
       "              'zipcode': 0.796465840293551,\n",
       "              'hvalue': -2.0036485171514045,\n",
       "              'salary': -0.596962748085702,\n",
       "              'hyears': 1.503680882481937,\n",
       "              'commission': 1.221436413076672,\n",
       "              'age': -0.9011201503953835}),\n",
       " 3: defaultdict(functools.partial(<bound method Random.gauss of <random.Random object at 0x1542ef410>>, 0, 1),\n",
       "             {'elevel': 1.009586534702096,\n",
       "              'car': 9.0955766848894,\n",
       "              'zipcode': 3.4686295345226705,\n",
       "              'hvalue': 134624.92700148802,\n",
       "              'salary': 52088.81623155219,\n",
       "              'hyears': 11.349041475756811,\n",
       "              'commission': 50741.9388746409,\n",
       "              'age': 53.18844539666057}),\n",
       " 4: defaultdict(functools.partial(<bound method Random.gauss of <random.Random object at 0x1542ef410>>, 0, 1),\n",
       "             {'elevel': -0.11912331108457304,\n",
       "              'car': 1.8043299319195407,\n",
       "              'zipcode': -0.16036217905701025,\n",
       "              'hvalue': -0.05065971364872301,\n",
       "              'salary': -0.19087388960126034,\n",
       "              'hyears': -0.990606238348301,\n",
       "              'commission': 0.6730299840253856,\n",
       "              'age': -1.324082464472022}),\n",
       " 5: defaultdict(functools.partial(<bound method Random.gauss of <random.Random object at 0x1542ef410>>, 0, 1),\n",
       "             {'elevel': 1.166490138238534,\n",
       "              'car': 0.008376179502044914,\n",
       "              'zipcode': 0.5036300563785048,\n",
       "              'hvalue': -0.5527646971207058,\n",
       "              'salary': -0.9201936678335405,\n",
       "              'hyears': 1.8002633604412994,\n",
       "              'commission': 0.46854978225277916,\n",
       "              'age': 1.2070031793653448}),\n",
       " 6: defaultdict(functools.partial(<bound method Random.gauss of <random.Random object at 0x1542ef410>>, 0, 1),\n",
       "             {'elevel': 0.18712289779980942,\n",
       "              'car': 2.6116075272560475,\n",
       "              'zipcode': 0.35750004836441207,\n",
       "              'hvalue': -1.029804804536397,\n",
       "              'salary': 0.7685090969541892,\n",
       "              'hyears': 0.42529911585764635,\n",
       "              'commission': -2.321149973492559,\n",
       "              'age': -0.11590422906128793}),\n",
       " 7: defaultdict(functools.partial(<bound method Random.gauss of <random.Random object at 0x1542ef410>>, 0, 1),\n",
       "             {'elevel': 0.9801990211840204,\n",
       "              'car': 0.8011650401167723,\n",
       "              'zipcode': -0.33943540831298874,\n",
       "              'hvalue': -1.2126242150471978,\n",
       "              'salary': 0.4912935493074279,\n",
       "              'hyears': -1.1458279458387148,\n",
       "              'commission': 1.3246786624104563,\n",
       "              'age': -0.3062675465966934}),\n",
       " 8: defaultdict(functools.partial(<bound method Random.gauss of <random.Random object at 0x1542ef410>>, 0, 1),\n",
       "             {'elevel': -0.9248190034741935,\n",
       "              'car': -0.5676659199936664,\n",
       "              'zipcode': -0.8108888130650165,\n",
       "              'hvalue': -0.5607173124842788,\n",
       "              'salary': -0.7363841038040713,\n",
       "              'hyears': -0.37900852336705276,\n",
       "              'commission': 0.23896969923651049,\n",
       "              'age': 0.5968890727968448}),\n",
       " 9: defaultdict(functools.partial(<bound method Random.gauss of <random.Random object at 0x1542ef410>>, 0, 1),\n",
       "             {'elevel': 2.0668355055715013,\n",
       "              'car': 7.739650302513228,\n",
       "              'zipcode': 5.771246394029875,\n",
       "              'hvalue': 102672.71263535286,\n",
       "              'salary': 100698.7645626835,\n",
       "              'hyears': 13.869982962588683,\n",
       "              'commission': 6.293807127231073e-12,\n",
       "              'age': 49.80476639551435})}"
      ]
     },
     "execution_count": 3,
     "metadata": {},
     "output_type": "execute_result"
    }
   ],
   "source": [
    "clustream.centers"
   ]
  },
  {
   "cell_type": "code",
   "execution_count": 4,
   "id": "e87199ee",
   "metadata": {
    "scrolled": true
   },
   "outputs": [
    {
     "data": {
      "text/plain": [
       "9"
      ]
     },
     "execution_count": 4,
     "metadata": {},
     "output_type": "execute_result"
    }
   ],
   "source": [
    "clustream.predict_one(x)"
   ]
  }
 ],
 "metadata": {
  "kernelspec": {
   "display_name": "river",
   "language": "python",
   "name": "river"
  },
  "language_info": {
   "codemirror_mode": {
    "name": "ipython",
    "version": 3
   },
   "file_extension": ".py",
   "mimetype": "text/x-python",
   "name": "python",
   "nbconvert_exporter": "python",
   "pygments_lexer": "ipython3",
   "version": "3.9.12"
  }
 },
 "nbformat": 4,
 "nbformat_minor": 5
}
