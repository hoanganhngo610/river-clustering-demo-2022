{
 "cells": [
  {
   "cell_type": "markdown",
   "metadata": {
    "slideshow": {
     "slide_type": "slide"
    }
   },
   "source": [
    "![River-logo](../assets/river_logo.png)"
   ]
  },
  {
   "cell_type": "markdown",
   "metadata": {},
   "source": [
    "# General introduction to River and its functionality\n",
    "\n",
    "`River` is a Python library for online machine learning. It first appears on November 2020, which is a result of a merge between [`creme`](https://github.com/MaxHalford/creme) and [`scikit-multiflow`](https://github.com/scikit-multiflow/scikit-multiflow).\n",
    "\n",
    "Currently, with more than 3000 stars on `Github` and itself being applied in various data science project at major tech firms (Samsung/Harman Kardon, Bee2Beep, BNP Paribas, Lyft, etc.), `River` has turned itself to become a go-to library for machine learning on streaming data.\n",
    "\n",
    "Key features of `River`:\n",
    "\n",
    "* **Incremental learning**: For all models within `River`, only one sample is updated at a time.\n",
    "* **Adaptive learning**: Methods are robust against any concept drift/anomalies in dynamic situations.\n",
    "* **General**: `River` is designed for all-purpose use, just like `scikit-learn`. Models within the package deals with all kinds of problems, including regression, classification, clustering, and even ad-hoc tasks like pre-processing, etc.\n",
    "* **Efficient**: Streaming methods in `River` are designed to consume time and memory at an efficient manner, mostly sub-linear.\n",
    "* **Easy to use**: `River` is suitable for use at any experience level, from beginners to experts/researchers."
   ]
  },
  {
   "cell_type": "markdown",
   "metadata": {},
   "source": [
    "# From batch learning to stream learning\n",
    "\n",
    "## Batch learning\n",
    "\n",
    "Batch learning assumes that **all** data is available at the same time, for both training and testing, and is processed in batches or as a whole.\n",
    "\n",
    "A minimal pipeline for traditional machine learning includes:\n",
    "\n",
    "1. Data preprocessing and engineering\n",
    "1. Training\n",
    "1. Testing\n",
    "\n",
    "We will take an example with [`Iris`](https://scikit-learn.org/stable/auto_examples/datasets/plot_iris_dataset.html), a dataset that everyone in the world of machine learning should all have heard of, at least once. This is available as part of `scikit-learn`.\n",
    "\n",
    "With this dataset, we will use $75\\%$ of them for training, and the remaining $25\\%$ for testing. The training and testing set have to be totally separated from each other, i.e they cannot overlap on one another."
   ]
  },
  {
   "cell_type": "code",
   "execution_count": 1,
   "metadata": {},
   "outputs": [],
   "source": [
    "from sklearn import datasets as datasets_skl\n",
    "from sklearn.naive_bayes import GaussianNB as GaussianNB_skl\n",
    "from sklearn.model_selection import train_test_split\n",
    "from sklearn.metrics import accuracy_score, confusion_matrix"
   ]
  },
  {
   "cell_type": "code",
   "execution_count": 2,
   "metadata": {},
   "outputs": [],
   "source": [
    "iris = datasets_skl.load_iris()\n",
    "\n",
    "# load variables and output into different variables\n",
    "x = iris.data\n",
    "y = iris.target\n",
    "\n",
    "# split into training and testing set\n",
    "x_train, x_test, y_train, y_test = train_test_split(\n",
    "    x, y, test_size = 0.25, stratify=y, random_state=0\n",
    ")"
   ]
  },
  {
   "cell_type": "code",
   "execution_count": 3,
   "metadata": {
    "scrolled": true
   },
   "outputs": [
    {
     "name": "stdout",
     "output_type": "stream",
     "text": [
      "Shape of iris: (150, 4), training set: (112, 4), testing set: (38, 4)\n",
      "The iris feature names include: sepal length (cm), sepal width (cm), petal length (cm), petal width (cm)\n",
      "The iris target names (groups) include: sepal length (cm), sepal width (cm), petal length (cm), petal width (cm)\n"
     ]
    }
   ],
   "source": [
    "# shape of datasets\n",
    "print(f\"Shape of iris: {iris.data.shape}, \"\n",
    "      f\"training set: {x_train.shape}, testing set: {x_test.shape}\")\n",
    "\n",
    "# feature names\n",
    "print(f\"The iris feature names include:\", \n",
    "      ', '.join(str(p) for p in iris.feature_names))\n",
    "\n",
    "# target names\n",
    "print(f\"The iris target names (groups) include:\", \n",
    "      ', '.join(str(p) for p in iris.feature_names))"
   ]
  },
  {
   "cell_type": "markdown",
   "metadata": {},
   "source": [
    "This is a classification problem, with $4$ features and $3$ groups (target names). As such, for this problem, we will use the Gaussian Naive Bayes (`GaussianNB`) for a parallel comparision against its incremental version in `River`."
   ]
  },
  {
   "cell_type": "code",
   "execution_count": 4,
   "metadata": {},
   "outputs": [],
   "source": [
    "gaussiannb_sklearn = GaussianNB_skl()\n",
    "gaussiannb_sklearn.fit(X=x_train, y=y_train)\n",
    "y_pred = gaussiannb_sklearn.predict(X=x_test)"
   ]
  },
  {
   "cell_type": "code",
   "execution_count": 5,
   "metadata": {},
   "outputs": [
    {
     "name": "stdout",
     "output_type": "stream",
     "text": [
      "SKLearn's Gaussian Naive Bayes accuracy: 0.97368\n"
     ]
    }
   ],
   "source": [
    "# derive accuracy\n",
    "print(f\"SKLearn's Gaussian Naive Bayes accuracy: {accuracy_score(y_test, y_pred):.5f}\")"
   ]
  },
  {
   "cell_type": "markdown",
   "metadata": {},
   "source": [
    "A model accuracy of $97\\%$, given that the dataset is simple and has a small number of data points, is indeed acceptable. However, in real life scenarios, generally speaking, we can not have all the data available at the same time. In fact, they usually come at a constant rate, which means that we have to collect data over time and generate new models after a certain time window.\n",
    "\n",
    "However, this approach raises a lot of relevant questions, include\n",
    "\n",
    "* Should we train new models on new data or even old data? To what time point?\n",
    "* How much new data is enough to start creating a new model?\n",
    "* How much should the new model be better than the old one, in terms of cost effectiveness?\n",
    "* Storing data (especially for big data problems) is sometimes not feasible, impratical and/or too costly\n",
    "* etc.\n",
    "\n",
    "All of these problems, combined, triggered the formation of stream learning practices."
   ]
  },
  {
   "cell_type": "markdown",
   "metadata": {},
   "source": [
    "## Stream learning"
   ]
  },
  {
   "cell_type": "markdown",
   "metadata": {},
   "source": [
    "Under the assumtion that\n",
    "\n",
    "* Data comes in a stream, which means that we do not have all the data available at the same time;\n",
    "* The number of data points are infinite; and \n",
    "* The statistics of the future-coming points are not predictable.\n",
    "\n",
    "The stream learning methods are specifically designed to deal with this situation under a certain set of requirements:\n",
    "\n",
    "* **Data are processed at one sample at a time.**: A sample is only seen once (learned once) and then the information regarding this point is totally forgotten after processing.\n",
    "* **Time and memory efficient**: Although the data stream is infinite, the algorithm must be designed to be efficient enough to handle a large number of data points coming in a continuous pattern. Most online learning algorithms deemed to use resources at a sub-linear fashion.\n",
    "* **Able to predict at any time**: The model can provide predictions for any data point coming at any time.\n",
    "\n",
    "Within the scope of this demo, the stream can be simulated by iterating through the whole dataset, *one observation at a time* with `zip`."
   ]
  },
  {
   "cell_type": "code",
   "execution_count": 6,
   "metadata": {},
   "outputs": [
    {
     "data": {
      "text/plain": [
       "(array([6.4, 2.7, 5.3, 1.9]), 2)"
      ]
     },
     "execution_count": 6,
     "metadata": {},
     "output_type": "execute_result"
    }
   ],
   "source": [
    "for x_i, y_i in zip(x_train, y_train):\n",
    "    # TBA\n",
    "    pass\n",
    "x_i, y_i # final observation"
   ]
  },
  {
   "cell_type": "markdown",
   "metadata": {},
   "source": [
    "When dealing with a large number of data in 2D, `numpy.ndarrays` are much more preferred. Most machine learning packages in Python, including `scikit-learn`, natively deals with this type of data. \n",
    "\n",
    "However, when dealing with data coming in a streaming fashion, particularly under the assumption that data only comes one point at a time as one-dimensional arrays, dictionary is much more preferred. As such, when feeding the data into `River`'s algorithms, we need a bit of transformation. This can easily be done as follows:"
   ]
  },
  {
   "cell_type": "code",
   "execution_count": 7,
   "metadata": {},
   "outputs": [
    {
     "data": {
      "text/plain": [
       "({'sepal length (cm)': 6.4,\n",
       "  'sepal width (cm)': 2.7,\n",
       "  'petal length (cm)': 5.3,\n",
       "  'petal width (cm)': 1.9},\n",
       " 2)"
      ]
     },
     "execution_count": 7,
     "metadata": {},
     "output_type": "execute_result"
    }
   ],
   "source": [
    "for x_i, y_i in zip(x_train, y_train):\n",
    "    x_i_dict = dict(zip(iris.feature_names, x_i))\n",
    "\n",
    "x_i_dict, y_i"
   ]
  },
  {
   "cell_type": "markdown",
   "metadata": {},
   "source": [
    "Although `scikit-learn` supports certain incremental algorithms (i.e these methods are provided with a `partial_fit` methods), this method only works for  *mini batches* - data that comes in at small batches at the same time.  \n",
    "\n",
    "This also means that, we are doing \"training\", and then \"testing\" later, which is not the suitable practice for fully online machine learing.\n",
    "\n",
    "In the following example with `River`, we are also using the Gaussian Naive Bayes method, which is an **incremental method** itself. The training and predicting method are provided via `learn_one` and `predict_one`."
   ]
  },
  {
   "cell_type": "markdown",
   "metadata": {},
   "source": [
    "### The `progressive_val_score` method"
   ]
  },
  {
   "cell_type": "code",
   "execution_count": 8,
   "metadata": {},
   "outputs": [],
   "source": [
    "# Imports\n",
    "from river import evaluate\n",
    "from river import stream\n",
    "from river import naive_bayes\n",
    "from river import metrics\n",
    "\n",
    "from sklearn.datasets import load_iris"
   ]
  },
  {
   "cell_type": "markdown",
   "metadata": {
    "slideshow": {
     "slide_type": "slide"
    }
   },
   "source": [
    "The `progressive_val_score` method implements the **prequential evaluation** and requires three components: \n",
    "\n",
    "- a data stream\n",
    "- a model\n",
    "- a metric"
   ]
  },
  {
   "cell_type": "code",
   "execution_count": 9,
   "metadata": {
    "slideshow": {
     "slide_type": "-"
    }
   },
   "outputs": [
    {
     "name": "stdout",
     "output_type": "stream",
     "text": [
      "[15] Accuracy: 64.29%\n",
      "[30] Accuracy: 82.76%\n",
      "[45] Accuracy: 84.09%\n",
      "[60] Accuracy: 88.14%\n",
      "[75] Accuracy: 89.19%\n",
      "[90] Accuracy: 89.89%\n",
      "[105] Accuracy: 91.35%\n",
      "[120] Accuracy: 92.44%\n",
      "[135] Accuracy: 92.54%\n",
      "[150] Accuracy: 91.95%\n"
     ]
    },
    {
     "data": {
      "text/plain": [
       "Accuracy: 91.95%"
      ]
     },
     "execution_count": 9,
     "metadata": {},
     "output_type": "execute_result"
    }
   ],
   "source": [
    "# Setup stream and estimators\n",
    "data = stream.iter_sklearn_dataset(datasets_skl.load_iris(), \n",
    "                                   shuffle=True, \n",
    "                                   seed=42)\n",
    "nb = naive_bayes.GaussianNB()\n",
    "metric = metrics.Accuracy()\n",
    "\n",
    "# Setup evaluator\n",
    "evaluate.progressive_val_score(dataset=data, \n",
    "                               model=nb, \n",
    "                               metric=metric, \n",
    "                               print_every=15)"
   ]
  },
  {
   "cell_type": "markdown",
   "metadata": {},
   "source": [
    "### Under the hood\n",
    "\n",
    "In the streaming setting, training and predicting happen inside a loop. Remember, a data sample is available only once in the stream.\n",
    "\n",
    "The `iter_sklearn` method converts a `scikit-learn` dataset object into an iterable that returns the data as `dict`. This way, we do not need the manual `zip` command as mentioned previously.\n",
    "\n",
    "The following example shows the main steps performed by `progressive_val_score`:"
   ]
  },
  {
   "cell_type": "code",
   "execution_count": 10,
   "metadata": {},
   "outputs": [
    {
     "name": "stdout",
     "output_type": "stream",
     "text": [
      "[16] Accuracy: 66.67%\n",
      "[31] Accuracy: 83.33%\n",
      "[46] Accuracy: 84.44%\n",
      "[61] Accuracy: 88.33%\n",
      "[76] Accuracy: 89.33%\n",
      "[91] Accuracy: 90.00%\n",
      "[106] Accuracy: 91.43%\n",
      "[121] Accuracy: 92.50%\n",
      "[136] Accuracy: 92.59%\n",
      "Model accuracy calculated by accuracy_score from sklearn: 0.9195\n"
     ]
    }
   ],
   "source": [
    "model = naive_bayes.GaussianNB()\n",
    "metric = metrics.Accuracy()\n",
    "data = stream.iter_sklearn_dataset(load_iris(), shuffle=True, seed=42)\n",
    "n_passed_samples = 0\n",
    "\n",
    "y_pred = []\n",
    "y_true = []\n",
    "\n",
    "for x, y in data:\n",
    "    # Predict class\n",
    "    y_p = model.predict_one(x)                    \n",
    "    if y_p is not None:\n",
    "        # Update metric\n",
    "        metric.update(y_true=y, y_pred=y_p)       \n",
    "    # Train the model\n",
    "    model.learn_one(x, y)  \n",
    "    # Process next sample if the model is empty\n",
    "    if y_p is None:\n",
    "        continue\n",
    "    # Add one to the number of passed samples\n",
    "    n_passed_samples += 1\n",
    "    y_pred.append(y_p)\n",
    "    y_true.append(y)\n",
    "    if n_passed_samples % 15 == 0:\n",
    "        print(f'[{metric.cm.n_samples + 1}] {metric}')\n",
    "        \n",
    "print(f'Model accuracy calculated by accuracy_score from sklearn: {accuracy_score(y_true, y_pred):.4f}')"
   ]
  },
  {
   "cell_type": "markdown",
   "metadata": {},
   "source": [
    "### The order matters!\n",
    "\n",
    "Notice the *order* of the training and prediction operations.\n",
    "\n",
    "When a new data sample ($x_i$, $y_i$) arrives:\n",
    "\n",
    "1. Predict the label $y_i'$ for the new data sample $x_i$, *not yet \"seen\"* by the model.\n",
    "2. Train the model using the new sample ($x_i$, $y_i$).\n",
    "\n",
    "This practice is commonly known as **prequential evaluation** or **interleaved test-then-train** evaluation. This means that, the method is used to predict the outcome of the new data point, even before learning.\n",
    "\n",
    "A benefit from this approach is that we can use all labeled samples in the stream to measure a model's performance, since the model can provide predictions at any point in the stream, depending on its current internal state. Batch methods can only predict after they have finished training.\n",
    "\n",
    "### Key facts\n",
    "\n",
    "- We use *all* labeled samples in the stream to measure a model's performance. \n",
    "- The model provides predictions at any point in the stream, according to its *current* internal state. Batch methods can only predict after they finished training.\n",
    "- All methods (models, metrics, etc.) in `River` are updated **one sample at a time**\n",
    "  - Mini-batch processing is supported by some methods.\n",
    "\n",
    "### Dictionaries\n",
    "\n",
    "The default data structure used internally in `River`.\n",
    "\n",
    "- Efficient storage of 1-dimensional data (1 sample)\n",
    "- Supports sparse/missing data\n",
    "- Easy access to features by name (key)"
   ]
  },
  {
   "cell_type": "code",
   "execution_count": 11,
   "metadata": {},
   "outputs": [
    {
     "name": "stdout",
     "output_type": "stream",
     "text": [
      "{'sepal length (cm)': 6.1, 'sepal width (cm)': 2.9, 'petal length (cm)': 4.7, 'petal width (cm)': 1.4} 1\n"
     ]
    }
   ],
   "source": [
    "# Last sample from the experiment above\n",
    "print(x, y)"
   ]
  },
  {
   "cell_type": "markdown",
   "metadata": {},
   "source": [
    "Besides methods, performance metrics in `River` can also be updated with one sample at a time. This means that we do not need to store all true and predicted labels in two separate arrays, which is sometimes *impractical*. \n",
    "\n",
    "Moreover, these metrics share the same  **confusion matrix**, which is efficient for calculating various metrics at the same time, for one single data stream."
   ]
  },
  {
   "cell_type": "code",
   "execution_count": 12,
   "metadata": {},
   "outputs": [
    {
     "data": {
      "text/plain": [
       "Accuracy: 91.95%"
      ]
     },
     "execution_count": 12,
     "metadata": {},
     "output_type": "execute_result"
    }
   ],
   "source": [
    "from river.metrics import Accuracy\n",
    "\n",
    "metric = Accuracy()\n",
    "for yt, yp in zip(y_true, y_pred):\n",
    "    metric.update(y_true=yt, y_pred=yp)\n",
    "metric"
   ]
  },
  {
   "cell_type": "code",
   "execution_count": 13,
   "metadata": {},
   "outputs": [
    {
     "name": "stdout",
     "output_type": "stream",
     "text": [
      "Confusion matrix from all data (scikit-learn):\n",
      "[[48  1  0]\n",
      " [ 2 46  2]\n",
      " [ 0  7 43]]\n",
      "Confusion matrix from updatable metric (River):\n",
      "    0    1    2   \n",
      "0   48    1    0  \n",
      "1    2   46    2  \n",
      "2    0    7   43  \n"
     ]
    }
   ],
   "source": [
    "print('Confusion matrix from all data (scikit-learn):')\n",
    "print(confusion_matrix(y_true, y_pred))\n",
    "print('Confusion matrix from updatable metric (River):')\n",
    "print(metric.cm)"
   ]
  },
  {
   "cell_type": "markdown",
   "metadata": {},
   "source": [
    "## Decision trees for data streams\n",
    "---\n",
    "\n",
    "### `NEWeather` data set\n",
    "\n",
    "**Description:** The National Oceanic and Atmospheric Administration (NOAA),\n",
    "has compiled a database of weather measurements from over 7,000 weather \n",
    "stations worldwide. Records date back to the mid-1900s. Daily measurements\n",
    "include a variety of features (temperature, pressure, wind speed, etc.) as\n",
    "well as a series of indicators for precipitation and other weather-related\n",
    "events. The `NEweather` data set contains data from this database, specifically\n",
    "from the Offutt Air Force Base in Bellevue, Nebraska ranging for over 50 years\n",
    "(1949-1999).\n",
    "\n",
    "**Features:** 8 Daily weather measurements\n",
    " \n",
    "|       Attribute      | Description |\n",
    "|:--------------------:|:-----------------------------|\n",
    "| `temp`                   | Temperature\n",
    "| `dew_pnt`                | Dew Point\n",
    "| `sea_lvl_press`          | Sea Level Pressure\n",
    "| `visibility`             | Visibility\n",
    "| `avg_wind_spd`           | Average Wind Speed\n",
    "| `max_sustained_wind_spd` | Maximum Sustained Wind Speed\n",
    "| `max_temp`               | Maximum Temperature\n",
    "| `min_temp`               | Minimum Temperature\n",
    "\n",
    "\n",
    "**Class:** `rain` | 0: no rain, 1: rain\n",
    " \n",
    "**Number of samples:** 18,159\n",
    "\n",
    "---\n",
    "\n",
    "In this example, we load the data from a csv file with `pandas.read_csv`. \n",
    "\n",
    "Next, we use the `iter_pandas` utility method to iterate over the `DataFrame`. The model in this example is a `HoeffdingTreeClassifier`, a type of decision tree designed for data streams."
   ]
  },
  {
   "cell_type": "code",
   "execution_count": 14,
   "metadata": {
    "tags": []
   },
   "outputs": [
    {
     "name": "stdout",
     "output_type": "stream",
     "text": [
      "[1,000] Accuracy: 71.57%\n",
      "[2,000] Accuracy: 71.54%\n",
      "[3,000] Accuracy: 71.86%\n",
      "[4,000] Accuracy: 72.97%\n",
      "[5,000] Accuracy: 73.13%\n",
      "[6,000] Accuracy: 73.21%\n",
      "[7,000] Accuracy: 73.88%\n",
      "[8,000] Accuracy: 73.57%\n",
      "[9,000] Accuracy: 73.70%\n",
      "[10,000] Accuracy: 73.77%\n",
      "[11,000] Accuracy: 74.15%\n",
      "[12,000] Accuracy: 74.36%\n",
      "[13,000] Accuracy: 74.53%\n",
      "[14,000] Accuracy: 74.38%\n",
      "[15,000] Accuracy: 74.57%\n",
      "[16,000] Accuracy: 74.57%\n",
      "[17,000] Accuracy: 74.46%\n",
      "[18,000] Accuracy: 74.17%\n"
     ]
    },
    {
     "data": {
      "text/plain": [
       "Accuracy: 74.15%"
      ]
     },
     "execution_count": 14,
     "metadata": {},
     "output_type": "execute_result"
    }
   ],
   "source": [
    "import pandas as pd\n",
    "\n",
    "from river import tree\n",
    "\n",
    "df = pd.read_csv(\"../datasets/NEweather.csv\")\n",
    "features = df.columns[:-2]\n",
    "data = stream.iter_pandas(X=df[features], y=df['rain'])\n",
    "\n",
    "model = tree.HoeffdingTreeClassifier()\n",
    "metric = metrics.Accuracy()\n",
    "\n",
    "evaluate.progressive_val_score(dataset=data,\n",
    "                               model=model,\n",
    "                               metric=metric,\n",
    "                               print_every=1000)"
   ]
  },
  {
   "cell_type": "markdown",
   "metadata": {},
   "source": [
    "- Tree-based models are popular due to their interpretability.\n",
    "- They use a tree data structure to model the data.\n",
    "- When a sample arrives, it traverses the tree until it reaches a leaf node.\n",
    "- Internal nodes define the path for a data sample based on the values of its features.\n",
    "- Leaf nodes are models that provide predictions for unlabeled-samples and can update their internal state using the labels from labeled samples."
   ]
  },
  {
   "cell_type": "code",
   "execution_count": 15,
   "metadata": {},
   "outputs": [
    {
     "data": {
      "image/svg+xml": [
       "<?xml version=\"1.0\" encoding=\"UTF-8\" standalone=\"no\"?>\n",
       "<!DOCTYPE svg PUBLIC \"-//W3C//DTD SVG 1.1//EN\"\n",
       " \"http://www.w3.org/Graphics/SVG/1.1/DTD/svg11.dtd\">\n",
       "<!-- Generated by graphviz version 2.40.1 (20161225.0304)\n",
       " -->\n",
       "<!-- Title: %3 Pages: 1 -->\n",
       "<svg width=\"423pt\" height=\"368pt\"\n",
       " viewBox=\"0.00 0.00 423.00 368.00\" xmlns=\"http://www.w3.org/2000/svg\" xmlns:xlink=\"http://www.w3.org/1999/xlink\">\n",
       "<g id=\"graph0\" class=\"graph\" transform=\"scale(1 1) rotate(0) translate(4 364)\">\n",
       "<title>%3</title>\n",
       "<polygon fill=\"#ffffff\" stroke=\"transparent\" points=\"-4,4 -4,-364 419,-364 419,4 -4,4\"/>\n",
       "<!-- 0 -->\n",
       "<g id=\"node1\" class=\"node\">\n",
       "<title>0</title>\n",
       "<polygon fill=\"#f4caac\" stroke=\"#000000\" stroke-width=\"1.2\" points=\"205,-360 149,-360 149,-324 205,-324 205,-360\"/>\n",
       "<text text-anchor=\"middle\" x=\"177\" y=\"-339.2\" font-family=\"trebuchet\" font-size=\"11.00\" fill=\"#000000\">dew_pnt</text>\n",
       "</g>\n",
       "<!-- 1 -->\n",
       "<g id=\"node2\" class=\"node\">\n",
       "<title>1</title>\n",
       "<polygon fill=\"#eb9f67\" stroke=\"#000000\" stroke-width=\"1.2\" points=\"161,-288 105,-288 105,-252 161,-252 161,-288\"/>\n",
       "<text text-anchor=\"middle\" x=\"133\" y=\"-267.2\" font-family=\"trebuchet\" font-size=\"11.00\" fill=\"#000000\">dew_pnt</text>\n",
       "</g>\n",
       "<!-- 0&#45;&gt;1 -->\n",
       "<g id=\"edge1\" class=\"edge\">\n",
       "<title>0&#45;&gt;1</title>\n",
       "<path fill=\"none\" stroke=\"#000000\" stroke-width=\".6\" d=\"M155,-323.8314C155,-323.8314 155,-298.4133 155,-298.4133\"/>\n",
       "<polygon fill=\"#000000\" stroke=\"#000000\" stroke-width=\".6\" points=\"158.5001,-298.4132 155,-288.4133 151.5001,-298.4133 158.5001,-298.4132\"/>\n",
       "<text text-anchor=\"middle\" x=\"140.5\" y=\"-313.5223\" font-family=\"Times,serif\" font-size=\"7.00\" fill=\"#000000\">≤ 30.6455</text>\n",
       "</g>\n",
       "<!-- 6 -->\n",
       "<g id=\"node7\" class=\"node\">\n",
       "<title>6</title>\n",
       "<polygon fill=\"#f9e2d2\" stroke=\"#000000\" stroke-width=\"1.2\" points=\"249,-288 195,-288 195,-252 249,-252 249,-288\"/>\n",
       "<text text-anchor=\"middle\" x=\"222\" y=\"-267.2\" font-family=\"trebuchet\" font-size=\"11.00\" fill=\"#000000\">visibility</text>\n",
       "</g>\n",
       "<!-- 0&#45;&gt;6 -->\n",
       "<g id=\"edge6\" class=\"edge\">\n",
       "<title>0&#45;&gt;6</title>\n",
       "<path fill=\"none\" stroke=\"#000000\" stroke-width=\".6\" d=\"M200,-323.8314C200,-323.8314 200,-298.4133 200,-298.4133\"/>\n",
       "<polygon fill=\"#000000\" stroke=\"#000000\" stroke-width=\".6\" points=\"203.5001,-298.4132 200,-288.4133 196.5001,-298.4133 203.5001,-298.4132\"/>\n",
       "<text text-anchor=\"middle\" x=\"185.5\" y=\"-313.5223\" font-family=\"Times,serif\" font-size=\"7.00\" fill=\"#000000\">&gt; 30.6455</text>\n",
       "</g>\n",
       "<!-- 2 -->\n",
       "<g id=\"node3\" class=\"node\">\n",
       "<title>2</title>\n",
       "<polygon fill=\"#e78a47\" stroke=\"#000000\" stroke-width=\"1.2\" points=\"88,-216 0,-216 0,-168 88,-168 88,-216\"/>\n",
       "<text text-anchor=\"middle\" x=\"44\" y=\"-207.2\" font-family=\"trebuchet\" font-size=\"11.00\" fill=\"#000000\">Class 0:</text>\n",
       "<text text-anchor=\"middle\" x=\"44\" y=\"-195.2\" font-family=\"trebuchet\" font-size=\"11.00\" fill=\"#000000\">\tP(0) = 1.0</text>\n",
       "<text text-anchor=\"middle\" x=\"44\" y=\"-183.2\" font-family=\"trebuchet\" font-size=\"11.00\" fill=\"#000000\">\tP(1) = 0.0</text>\n",
       "<text text-anchor=\"middle\" x=\"44\" y=\"-171.2\" font-family=\"trebuchet\" font-size=\"11.00\" fill=\"#000000\">samples: 1921</text>\n",
       "</g>\n",
       "<!-- 1&#45;&gt;2 -->\n",
       "<g id=\"edge2\" class=\"edge\">\n",
       "<title>1&#45;&gt;2</title>\n",
       "<path fill=\"none\" stroke=\"#000000\" stroke-width=\".6\" d=\"M104.8398,-270C78.7656,-270 44,-270 44,-270 44,-270 44,-226.2521 44,-226.2521\"/>\n",
       "<polygon fill=\"#000000\" stroke=\"#000000\" stroke-width=\".6\" points=\"47.5001,-226.2521 44,-216.2521 40.5001,-226.2522 47.5001,-226.2521\"/>\n",
       "<text text-anchor=\"middle\" x=\"38.046\" y=\"-272.4\" font-family=\"Times,serif\" font-size=\"7.00\" fill=\"#000000\">≤ 15.6545</text>\n",
       "</g>\n",
       "<!-- 3 -->\n",
       "<g id=\"node4\" class=\"node\">\n",
       "<title>3</title>\n",
       "<polygon fill=\"#efb489\" stroke=\"#000000\" stroke-width=\"1.2\" points=\"160,-210 106,-210 106,-174 160,-174 160,-210\"/>\n",
       "<text text-anchor=\"middle\" x=\"133\" y=\"-189.2\" font-family=\"trebuchet\" font-size=\"11.00\" fill=\"#000000\">visibility</text>\n",
       "</g>\n",
       "<!-- 1&#45;&gt;3 -->\n",
       "<g id=\"edge3\" class=\"edge\">\n",
       "<title>1&#45;&gt;3</title>\n",
       "<path fill=\"none\" stroke=\"#000000\" stroke-width=\".6\" d=\"M133,-251.9092C133,-251.9092 133,-220.2629 133,-220.2629\"/>\n",
       "<polygon fill=\"#000000\" stroke=\"#000000\" stroke-width=\".6\" points=\"136.5001,-220.2629 133,-210.2629 129.5001,-220.2629 136.5001,-220.2629\"/>\n",
       "<text text-anchor=\"middle\" x=\"118.5\" y=\"-238.486\" font-family=\"Times,serif\" font-size=\"7.00\" fill=\"#000000\">&gt; 15.6545</text>\n",
       "</g>\n",
       "<!-- 4 -->\n",
       "<g id=\"node5\" class=\"node\">\n",
       "<title>4</title>\n",
       "<polygon fill=\"#f7d8c2\" stroke=\"#000000\" stroke-width=\"1.2\" points=\"123,-132 35,-132 35,-84 123,-84 123,-132\"/>\n",
       "<text text-anchor=\"middle\" x=\"79\" y=\"-123.2\" font-family=\"trebuchet\" font-size=\"11.00\" fill=\"#000000\">Class 0:</text>\n",
       "<text text-anchor=\"middle\" x=\"79\" y=\"-111.2\" font-family=\"trebuchet\" font-size=\"11.00\" fill=\"#000000\">\tP(0) = 0.7</text>\n",
       "<text text-anchor=\"middle\" x=\"79\" y=\"-99.2\" font-family=\"trebuchet\" font-size=\"11.00\" fill=\"#000000\">\tP(1) = 0.3</text>\n",
       "<text text-anchor=\"middle\" x=\"79\" y=\"-87.2\" font-family=\"trebuchet\" font-size=\"11.00\" fill=\"#000000\">samples: 577</text>\n",
       "</g>\n",
       "<!-- 3&#45;&gt;4 -->\n",
       "<g id=\"edge4\" class=\"edge\">\n",
       "<title>3&#45;&gt;4</title>\n",
       "<path fill=\"none\" stroke=\"#000000\" stroke-width=\".6\" d=\"M114.5,-173.7733C114.5,-173.7733 114.5,-142.2505 114.5,-142.2505\"/>\n",
       "<polygon fill=\"#000000\" stroke=\"#000000\" stroke-width=\".6\" points=\"118.0001,-142.2504 114.5,-132.2505 111.0001,-142.2505 118.0001,-142.2504\"/>\n",
       "<text text-anchor=\"middle\" x=\"102\" y=\"-160.4119\" font-family=\"Times,serif\" font-size=\"7.00\" fill=\"#000000\">≤ 9.1182</text>\n",
       "</g>\n",
       "<!-- 5 -->\n",
       "<g id=\"node6\" class=\"node\">\n",
       "<title>5</title>\n",
       "<polygon fill=\"#eca16c\" stroke=\"#000000\" stroke-width=\"1.2\" points=\"229,-132 141,-132 141,-84 229,-84 229,-132\"/>\n",
       "<text text-anchor=\"middle\" x=\"185\" y=\"-123.2\" font-family=\"trebuchet\" font-size=\"11.00\" fill=\"#000000\">Class 0:</text>\n",
       "<text text-anchor=\"middle\" x=\"185\" y=\"-111.2\" font-family=\"trebuchet\" font-size=\"11.00\" fill=\"#000000\">\tP(0) = 0.9</text>\n",
       "<text text-anchor=\"middle\" x=\"185\" y=\"-99.2\" font-family=\"trebuchet\" font-size=\"11.00\" fill=\"#000000\">\tP(1) = 0.1</text>\n",
       "<text text-anchor=\"middle\" x=\"185\" y=\"-87.2\" font-family=\"trebuchet\" font-size=\"11.00\" fill=\"#000000\">samples: 1538</text>\n",
       "</g>\n",
       "<!-- 3&#45;&gt;5 -->\n",
       "<g id=\"edge5\" class=\"edge\">\n",
       "<title>3&#45;&gt;5</title>\n",
       "<path fill=\"none\" stroke=\"#000000\" stroke-width=\".6\" d=\"M150.5,-173.7733C150.5,-173.7733 150.5,-142.2505 150.5,-142.2505\"/>\n",
       "<polygon fill=\"#000000\" stroke=\"#000000\" stroke-width=\".6\" points=\"154.0001,-142.2504 150.5,-132.2505 147.0001,-142.2505 154.0001,-142.2504\"/>\n",
       "<text text-anchor=\"middle\" x=\"138\" y=\"-160.4119\" font-family=\"Times,serif\" font-size=\"7.00\" fill=\"#000000\">&gt; 9.1182</text>\n",
       "</g>\n",
       "<!-- 7 -->\n",
       "<g id=\"node8\" class=\"node\">\n",
       "<title>7</title>\n",
       "<polygon fill=\"#d1e8f9\" stroke=\"#000000\" stroke-width=\"1.2\" points=\"266,-216 178,-216 178,-168 266,-168 266,-216\"/>\n",
       "<text text-anchor=\"middle\" x=\"222\" y=\"-207.2\" font-family=\"trebuchet\" font-size=\"11.00\" fill=\"#000000\">Class 1:</text>\n",
       "<text text-anchor=\"middle\" x=\"222\" y=\"-195.2\" font-family=\"trebuchet\" font-size=\"11.00\" fill=\"#000000\">\tP(0) = 0.4</text>\n",
       "<text text-anchor=\"middle\" x=\"222\" y=\"-183.2\" font-family=\"trebuchet\" font-size=\"11.00\" fill=\"#000000\">\tP(1) = 0.6</text>\n",
       "<text text-anchor=\"middle\" x=\"222\" y=\"-171.2\" font-family=\"trebuchet\" font-size=\"11.00\" fill=\"#000000\">samples: 2496</text>\n",
       "</g>\n",
       "<!-- 6&#45;&gt;7 -->\n",
       "<g id=\"edge7\" class=\"edge\">\n",
       "<title>6&#45;&gt;7</title>\n",
       "<path fill=\"none\" stroke=\"#000000\" stroke-width=\".6\" d=\"M222,-251.9092C222,-251.9092 222,-226.1988 222,-226.1988\"/>\n",
       "<polygon fill=\"#000000\" stroke=\"#000000\" stroke-width=\".6\" points=\"225.5001,-226.1988 222,-216.1988 218.5001,-226.1988 225.5001,-226.1988\"/>\n",
       "<text text-anchor=\"middle\" x=\"209.5\" y=\"-241.454\" font-family=\"Times,serif\" font-size=\"7.00\" fill=\"#000000\">≤ 9.7364</text>\n",
       "</g>\n",
       "<!-- 8 -->\n",
       "<g id=\"node9\" class=\"node\">\n",
       "<title>8</title>\n",
       "<polygon fill=\"#f6d6be\" stroke=\"#000000\" stroke-width=\"1.2\" points=\"369.5,-210 284.5,-210 284.5,-174 369.5,-174 369.5,-210\"/>\n",
       "<text text-anchor=\"middle\" x=\"327\" y=\"-189.2\" font-family=\"trebuchet\" font-size=\"11.00\" fill=\"#000000\">avg_wind_spd</text>\n",
       "</g>\n",
       "<!-- 6&#45;&gt;8 -->\n",
       "<g id=\"edge8\" class=\"edge\">\n",
       "<title>6&#45;&gt;8</title>\n",
       "<path fill=\"none\" stroke=\"#000000\" stroke-width=\".6\" d=\"M249.0401,-270C280.1509,-270 327,-270 327,-270 327,-270 327,-220.0908 327,-220.0908\"/>\n",
       "<polygon fill=\"#000000\" stroke=\"#000000\" stroke-width=\".6\" points=\"330.5001,-220.0908 327,-210.0908 323.5001,-220.0909 330.5001,-220.0908\"/>\n",
       "<text text-anchor=\"middle\" x=\"300.4746\" y=\"-272.4\" font-family=\"Times,serif\" font-size=\"7.00\" fill=\"#000000\">&gt; 9.7364</text>\n",
       "</g>\n",
       "<!-- 9 -->\n",
       "<g id=\"node10\" class=\"node\">\n",
       "<title>9</title>\n",
       "<polygon fill=\"#f4c9aa\" stroke=\"#000000\" stroke-width=\"1.2\" points=\"309,-126 255,-126 255,-90 309,-90 309,-126\"/>\n",
       "<text text-anchor=\"middle\" x=\"282\" y=\"-105.2\" font-family=\"trebuchet\" font-size=\"11.00\" fill=\"#000000\">visibility</text>\n",
       "</g>\n",
       "<!-- 8&#45;&gt;9 -->\n",
       "<g id=\"edge9\" class=\"edge\">\n",
       "<title>8&#45;&gt;9</title>\n",
       "<path fill=\"none\" stroke=\"#000000\" stroke-width=\".6\" d=\"M296.75,-173.7733C296.75,-173.7733 296.75,-136.1912 296.75,-136.1912\"/>\n",
       "<polygon fill=\"#000000\" stroke=\"#000000\" stroke-width=\".6\" points=\"300.2501,-136.1911 296.75,-126.1912 293.2501,-136.1912 300.2501,-136.1911\"/>\n",
       "<text text-anchor=\"middle\" x=\"284.25\" y=\"-157.3822\" font-family=\"Times,serif\" font-size=\"7.00\" fill=\"#000000\">≤ 8.1545</text>\n",
       "</g>\n",
       "<!-- 12 -->\n",
       "<g id=\"node13\" class=\"node\">\n",
       "<title>12</title>\n",
       "<polygon fill=\"#fdf7f2\" stroke=\"#000000\" stroke-width=\"1.2\" points=\"415,-132 327,-132 327,-84 415,-84 415,-132\"/>\n",
       "<text text-anchor=\"middle\" x=\"371\" y=\"-123.2\" font-family=\"trebuchet\" font-size=\"11.00\" fill=\"#000000\">Class 0:</text>\n",
       "<text text-anchor=\"middle\" x=\"371\" y=\"-111.2\" font-family=\"trebuchet\" font-size=\"11.00\" fill=\"#000000\">\tP(0) = 0.5</text>\n",
       "<text text-anchor=\"middle\" x=\"371\" y=\"-99.2\" font-family=\"trebuchet\" font-size=\"11.00\" fill=\"#000000\">\tP(1) = 0.5</text>\n",
       "<text text-anchor=\"middle\" x=\"371\" y=\"-87.2\" font-family=\"trebuchet\" font-size=\"11.00\" fill=\"#000000\">samples: 1526</text>\n",
       "</g>\n",
       "<!-- 8&#45;&gt;12 -->\n",
       "<g id=\"edge12\" class=\"edge\">\n",
       "<title>8&#45;&gt;12</title>\n",
       "<path fill=\"none\" stroke=\"#000000\" stroke-width=\".6\" d=\"M348.25,-173.7733C348.25,-173.7733 348.25,-142.2505 348.25,-142.2505\"/>\n",
       "<polygon fill=\"#000000\" stroke=\"#000000\" stroke-width=\".6\" points=\"351.7501,-142.2504 348.25,-132.2505 344.7501,-142.2505 351.7501,-142.2504\"/>\n",
       "<text text-anchor=\"middle\" x=\"335.75\" y=\"-160.4119\" font-family=\"Times,serif\" font-size=\"7.00\" fill=\"#000000\">&gt; 8.1545</text>\n",
       "</g>\n",
       "<!-- 10 -->\n",
       "<g id=\"node11\" class=\"node\">\n",
       "<title>10</title>\n",
       "<polygon fill=\"#fdf4ee\" stroke=\"#000000\" stroke-width=\"1.2\" points=\"273,-48 185,-48 185,0 273,0 273,-48\"/>\n",
       "<text text-anchor=\"middle\" x=\"229\" y=\"-39.2\" font-family=\"trebuchet\" font-size=\"11.00\" fill=\"#000000\">Class 0:</text>\n",
       "<text text-anchor=\"middle\" x=\"229\" y=\"-27.2\" font-family=\"trebuchet\" font-size=\"11.00\" fill=\"#000000\">\tP(0) = 0.5</text>\n",
       "<text text-anchor=\"middle\" x=\"229\" y=\"-15.2\" font-family=\"trebuchet\" font-size=\"11.00\" fill=\"#000000\">\tP(1) = 0.5</text>\n",
       "<text text-anchor=\"middle\" x=\"229\" y=\"-3.2\" font-family=\"trebuchet\" font-size=\"11.00\" fill=\"#000000\">samples: 1502</text>\n",
       "</g>\n",
       "<!-- 9&#45;&gt;10 -->\n",
       "<g id=\"edge10\" class=\"edge\">\n",
       "<title>9&#45;&gt;10</title>\n",
       "<path fill=\"none\" stroke=\"#000000\" stroke-width=\".6\" d=\"M264,-89.7733C264,-89.7733 264,-58.2505 264,-58.2505\"/>\n",
       "<polygon fill=\"#000000\" stroke=\"#000000\" stroke-width=\".6\" points=\"267.5001,-58.2504 264,-48.2505 260.5001,-58.2505 267.5001,-58.2504\"/>\n",
       "<text text-anchor=\"middle\" x=\"249.5\" y=\"-76.4119\" font-family=\"Times,serif\" font-size=\"7.00\" fill=\"#000000\">≤ 14.6091</text>\n",
       "</g>\n",
       "<!-- 11 -->\n",
       "<g id=\"node12\" class=\"node\">\n",
       "<title>11</title>\n",
       "<polygon fill=\"#efb286\" stroke=\"#000000\" stroke-width=\"1.2\" points=\"379,-48 291,-48 291,0 379,0 379,-48\"/>\n",
       "<text text-anchor=\"middle\" x=\"335\" y=\"-39.2\" font-family=\"trebuchet\" font-size=\"11.00\" fill=\"#000000\">Class 0:</text>\n",
       "<text text-anchor=\"middle\" x=\"335\" y=\"-27.2\" font-family=\"trebuchet\" font-size=\"11.00\" fill=\"#000000\">\tP(0) = 0.8</text>\n",
       "<text text-anchor=\"middle\" x=\"335\" y=\"-15.2\" font-family=\"trebuchet\" font-size=\"11.00\" fill=\"#000000\">\tP(1) = 0.2</text>\n",
       "<text text-anchor=\"middle\" x=\"335\" y=\"-3.2\" font-family=\"trebuchet\" font-size=\"11.00\" fill=\"#000000\">samples: 1346</text>\n",
       "</g>\n",
       "<!-- 9&#45;&gt;11 -->\n",
       "<g id=\"edge11\" class=\"edge\">\n",
       "<title>9&#45;&gt;11</title>\n",
       "<path fill=\"none\" stroke=\"#000000\" stroke-width=\".6\" d=\"M300,-89.7733C300,-89.7733 300,-58.2505 300,-58.2505\"/>\n",
       "<polygon fill=\"#000000\" stroke=\"#000000\" stroke-width=\".6\" points=\"303.5001,-58.2504 300,-48.2505 296.5001,-58.2505 303.5001,-58.2504\"/>\n",
       "<text text-anchor=\"middle\" x=\"285.5\" y=\"-76.4119\" font-family=\"Times,serif\" font-size=\"7.00\" fill=\"#000000\">&gt; 14.6091</text>\n",
       "</g>\n",
       "</g>\n",
       "</svg>\n"
      ],
      "text/plain": [
       "<graphviz.dot.Digraph at 0x1212c89a0>"
      ]
     },
     "execution_count": 15,
     "metadata": {},
     "output_type": "execute_result"
    }
   ],
   "source": [
    "model.draw()"
   ]
  },
  {
   "cell_type": "markdown",
   "metadata": {},
   "source": [
    "### Incremental tree growth"
   ]
  },
  {
   "cell_type": "code",
   "execution_count": 16,
   "metadata": {},
   "outputs": [],
   "source": [
    "import itertools\n",
    "\n",
    "data = stream.iter_pandas(X=df[features], y=df['rain'])\n",
    "metric = metrics.Accuracy()\n",
    "\n",
    "model = tree.HoeffdingTreeClassifier()"
   ]
  },
  {
   "cell_type": "markdown",
   "metadata": {},
   "source": [
    "Running the code chunk within the `for` loop in the following cell multiple times we can \"see\" the tree growing. \n",
    "\n",
    "We have simplified this by using `IPython.display` to return multiple outputs."
   ]
  },
  {
   "cell_type": "code",
   "execution_count": null,
   "metadata": {},
   "outputs": [
    {
     "name": "stdout",
     "output_type": "stream",
     "text": [
      "Accuracy: 71.50% - n_samples: 1000\n"
     ]
    },
    {
     "data": {
      "image/svg+xml": [
       "<?xml version=\"1.0\" encoding=\"UTF-8\" standalone=\"no\"?>\n",
       "<!DOCTYPE svg PUBLIC \"-//W3C//DTD SVG 1.1//EN\"\n",
       " \"http://www.w3.org/Graphics/SVG/1.1/DTD/svg11.dtd\">\n",
       "<!-- Generated by graphviz version 2.40.1 (20161225.0304)\n",
       " -->\n",
       "<!-- Title: %3 Pages: 1 -->\n",
       "<svg width=\"96pt\" height=\"56pt\"\n",
       " viewBox=\"0.00 0.00 96.00 56.00\" xmlns=\"http://www.w3.org/2000/svg\" xmlns:xlink=\"http://www.w3.org/1999/xlink\">\n",
       "<g id=\"graph0\" class=\"graph\" transform=\"scale(1 1) rotate(0) translate(4 52)\">\n",
       "<title>%3</title>\n",
       "<polygon fill=\"#ffffff\" stroke=\"transparent\" points=\"-4,4 -4,-52 92,-52 92,4 -4,4\"/>\n",
       "<!-- 0 -->\n",
       "<g id=\"node1\" class=\"node\">\n",
       "<title>0</title>\n",
       "<polygon fill=\"#f6d3ba\" stroke=\"#000000\" stroke-width=\"1.2\" points=\"88,-48 0,-48 0,0 88,0 88,-48\"/>\n",
       "<text text-anchor=\"middle\" x=\"44\" y=\"-39.2\" font-family=\"trebuchet\" font-size=\"11.00\" fill=\"#000000\">Class 0:</text>\n",
       "<text text-anchor=\"middle\" x=\"44\" y=\"-27.2\" font-family=\"trebuchet\" font-size=\"11.00\" fill=\"#000000\">\tP(0) = 0.7</text>\n",
       "<text text-anchor=\"middle\" x=\"44\" y=\"-15.2\" font-family=\"trebuchet\" font-size=\"11.00\" fill=\"#000000\">\tP(1) = 0.3</text>\n",
       "<text text-anchor=\"middle\" x=\"44\" y=\"-3.2\" font-family=\"trebuchet\" font-size=\"11.00\" fill=\"#000000\">samples: 1000</text>\n",
       "</g>\n",
       "</g>\n",
       "</svg>\n"
      ],
      "text/plain": [
       "<graphviz.dot.Digraph at 0x1212c1f10>"
      ]
     },
     "metadata": {},
     "output_type": "display_data"
    },
    {
     "name": "stdout",
     "output_type": "stream",
     "text": [
      "Accuracy: 71.50% - n_samples: 2000\n"
     ]
    },
    {
     "data": {
      "image/svg+xml": [
       "<?xml version=\"1.0\" encoding=\"UTF-8\" standalone=\"no\"?>\n",
       "<!DOCTYPE svg PUBLIC \"-//W3C//DTD SVG 1.1//EN\"\n",
       " \"http://www.w3.org/Graphics/SVG/1.1/DTD/svg11.dtd\">\n",
       "<!-- Generated by graphviz version 2.40.1 (20161225.0304)\n",
       " -->\n",
       "<!-- Title: %3 Pages: 1 -->\n",
       "<svg width=\"96pt\" height=\"56pt\"\n",
       " viewBox=\"0.00 0.00 96.00 56.00\" xmlns=\"http://www.w3.org/2000/svg\" xmlns:xlink=\"http://www.w3.org/1999/xlink\">\n",
       "<g id=\"graph0\" class=\"graph\" transform=\"scale(1 1) rotate(0) translate(4 52)\">\n",
       "<title>%3</title>\n",
       "<polygon fill=\"#ffffff\" stroke=\"transparent\" points=\"-4,4 -4,-52 92,-52 92,4 -4,4\"/>\n",
       "<!-- 0 -->\n",
       "<g id=\"node1\" class=\"node\">\n",
       "<title>0</title>\n",
       "<polygon fill=\"#f5ccb0\" stroke=\"#000000\" stroke-width=\"1.2\" points=\"88,-48 0,-48 0,0 88,0 88,-48\"/>\n",
       "<text text-anchor=\"middle\" x=\"44\" y=\"-39.2\" font-family=\"trebuchet\" font-size=\"11.00\" fill=\"#000000\">Class 0:</text>\n",
       "<text text-anchor=\"middle\" x=\"44\" y=\"-27.2\" font-family=\"trebuchet\" font-size=\"11.00\" fill=\"#000000\">\tP(0) = 0.7</text>\n",
       "<text text-anchor=\"middle\" x=\"44\" y=\"-15.2\" font-family=\"trebuchet\" font-size=\"11.00\" fill=\"#000000\">\tP(1) = 0.3</text>\n",
       "<text text-anchor=\"middle\" x=\"44\" y=\"-3.2\" font-family=\"trebuchet\" font-size=\"11.00\" fill=\"#000000\">samples: 2000</text>\n",
       "</g>\n",
       "</g>\n",
       "</svg>\n"
      ],
      "text/plain": [
       "<graphviz.dot.Digraph at 0x1212d0610>"
      ]
     },
     "metadata": {},
     "output_type": "display_data"
    },
    {
     "name": "stdout",
     "output_type": "stream",
     "text": [
      "Accuracy: 71.83% - n_samples: 3000\n"
     ]
    },
    {
     "data": {
      "image/svg+xml": [
       "<?xml version=\"1.0\" encoding=\"UTF-8\" standalone=\"no\"?>\n",
       "<!DOCTYPE svg PUBLIC \"-//W3C//DTD SVG 1.1//EN\"\n",
       " \"http://www.w3.org/Graphics/SVG/1.1/DTD/svg11.dtd\">\n",
       "<!-- Generated by graphviz version 2.40.1 (20161225.0304)\n",
       " -->\n",
       "<!-- Title: %3 Pages: 1 -->\n",
       "<svg width=\"96pt\" height=\"56pt\"\n",
       " viewBox=\"0.00 0.00 96.00 56.00\" xmlns=\"http://www.w3.org/2000/svg\" xmlns:xlink=\"http://www.w3.org/1999/xlink\">\n",
       "<g id=\"graph0\" class=\"graph\" transform=\"scale(1 1) rotate(0) translate(4 52)\">\n",
       "<title>%3</title>\n",
       "<polygon fill=\"#ffffff\" stroke=\"transparent\" points=\"-4,4 -4,-52 92,-52 92,4 -4,4\"/>\n",
       "<!-- 0 -->\n",
       "<g id=\"node1\" class=\"node\">\n",
       "<title>0</title>\n",
       "<polygon fill=\"#f4caab\" stroke=\"#000000\" stroke-width=\"1.2\" points=\"88,-48 0,-48 0,0 88,0 88,-48\"/>\n",
       "<text text-anchor=\"middle\" x=\"44\" y=\"-39.2\" font-family=\"trebuchet\" font-size=\"11.00\" fill=\"#000000\">Class 0:</text>\n",
       "<text text-anchor=\"middle\" x=\"44\" y=\"-27.2\" font-family=\"trebuchet\" font-size=\"11.00\" fill=\"#000000\">\tP(0) = 0.7</text>\n",
       "<text text-anchor=\"middle\" x=\"44\" y=\"-15.2\" font-family=\"trebuchet\" font-size=\"11.00\" fill=\"#000000\">\tP(1) = 0.3</text>\n",
       "<text text-anchor=\"middle\" x=\"44\" y=\"-3.2\" font-family=\"trebuchet\" font-size=\"11.00\" fill=\"#000000\">samples: 3000</text>\n",
       "</g>\n",
       "</g>\n",
       "</svg>\n"
      ],
      "text/plain": [
       "<graphviz.dot.Digraph at 0x12137cdf0>"
      ]
     },
     "metadata": {},
     "output_type": "display_data"
    },
    {
     "name": "stdout",
     "output_type": "stream",
     "text": [
      "Accuracy: 72.95% - n_samples: 4000\n"
     ]
    },
    {
     "data": {
      "image/svg+xml": [
       "<?xml version=\"1.0\" encoding=\"UTF-8\" standalone=\"no\"?>\n",
       "<!DOCTYPE svg PUBLIC \"-//W3C//DTD SVG 1.1//EN\"\n",
       " \"http://www.w3.org/Graphics/SVG/1.1/DTD/svg11.dtd\">\n",
       "<!-- Generated by graphviz version 2.40.1 (20161225.0304)\n",
       " -->\n",
       "<!-- Title: %3 Pages: 1 -->\n",
       "<svg width=\"202pt\" height=\"128pt\"\n",
       " viewBox=\"0.00 0.00 202.00 128.00\" xmlns=\"http://www.w3.org/2000/svg\" xmlns:xlink=\"http://www.w3.org/1999/xlink\">\n",
       "<g id=\"graph0\" class=\"graph\" transform=\"scale(1 1) rotate(0) translate(4 124)\">\n",
       "<title>%3</title>\n",
       "<polygon fill=\"#ffffff\" stroke=\"transparent\" points=\"-4,4 -4,-124 198,-124 198,4 -4,4\"/>\n",
       "<!-- 0 -->\n",
       "<g id=\"node1\" class=\"node\">\n",
       "<title>0</title>\n",
       "<polygon fill=\"#f4caac\" stroke=\"#000000\" stroke-width=\"1.2\" points=\"125,-120 69,-120 69,-84 125,-84 125,-120\"/>\n",
       "<text text-anchor=\"middle\" x=\"97\" y=\"-99.2\" font-family=\"trebuchet\" font-size=\"11.00\" fill=\"#000000\">dew_pnt</text>\n",
       "</g>\n",
       "<!-- 1 -->\n",
       "<g id=\"node2\" class=\"node\">\n",
       "<title>1</title>\n",
       "<polygon fill=\"#ea995f\" stroke=\"#000000\" stroke-width=\"1.2\" points=\"88,-48 0,-48 0,0 88,0 88,-48\"/>\n",
       "<text text-anchor=\"middle\" x=\"44\" y=\"-39.2\" font-family=\"trebuchet\" font-size=\"11.00\" fill=\"#000000\">Class 0:</text>\n",
       "<text text-anchor=\"middle\" x=\"44\" y=\"-27.2\" font-family=\"trebuchet\" font-size=\"11.00\" fill=\"#000000\">\tP(0) = 0.9</text>\n",
       "<text text-anchor=\"middle\" x=\"44\" y=\"-15.2\" font-family=\"trebuchet\" font-size=\"11.00\" fill=\"#000000\">\tP(1) = 0.1</text>\n",
       "<text text-anchor=\"middle\" x=\"44\" y=\"-3.2\" font-family=\"trebuchet\" font-size=\"11.00\" fill=\"#000000\">samples: 1244</text>\n",
       "</g>\n",
       "<!-- 0&#45;&gt;1 -->\n",
       "<g id=\"edge1\" class=\"edge\">\n",
       "<title>0&#45;&gt;1</title>\n",
       "<path fill=\"none\" stroke=\"#000000\" stroke-width=\".6\" d=\"M78.5,-83.9092C78.5,-83.9092 78.5,-58.1988 78.5,-58.1988\"/>\n",
       "<polygon fill=\"#000000\" stroke=\"#000000\" stroke-width=\".6\" points=\"82.0001,-58.1988 78.5,-48.1988 75.0001,-58.1988 82.0001,-58.1988\"/>\n",
       "<text text-anchor=\"middle\" x=\"64\" y=\"-73.454\" font-family=\"Times,serif\" font-size=\"7.00\" fill=\"#000000\">≤ 30.6455</text>\n",
       "</g>\n",
       "<!-- 2 -->\n",
       "<g id=\"node3\" class=\"node\">\n",
       "<title>2</title>\n",
       "<polygon fill=\"#f9e2d1\" stroke=\"#000000\" stroke-width=\"1.2\" points=\"194,-48 106,-48 106,0 194,0 194,-48\"/>\n",
       "<text text-anchor=\"middle\" x=\"150\" y=\"-39.2\" font-family=\"trebuchet\" font-size=\"11.00\" fill=\"#000000\">Class 0:</text>\n",
       "<text text-anchor=\"middle\" x=\"150\" y=\"-27.2\" font-family=\"trebuchet\" font-size=\"11.00\" fill=\"#000000\">\tP(0) = 0.6</text>\n",
       "<text text-anchor=\"middle\" x=\"150\" y=\"-15.2\" font-family=\"trebuchet\" font-size=\"11.00\" fill=\"#000000\">\tP(1) = 0.4</text>\n",
       "<text text-anchor=\"middle\" x=\"150\" y=\"-3.2\" font-family=\"trebuchet\" font-size=\"11.00\" fill=\"#000000\">samples: 2755</text>\n",
       "</g>\n",
       "<!-- 0&#45;&gt;2 -->\n",
       "<g id=\"edge2\" class=\"edge\">\n",
       "<title>0&#45;&gt;2</title>\n",
       "<path fill=\"none\" stroke=\"#000000\" stroke-width=\".6\" d=\"M115.5,-83.9092C115.5,-83.9092 115.5,-58.1988 115.5,-58.1988\"/>\n",
       "<polygon fill=\"#000000\" stroke=\"#000000\" stroke-width=\".6\" points=\"119.0001,-58.1988 115.5,-48.1988 112.0001,-58.1988 119.0001,-58.1988\"/>\n",
       "<text text-anchor=\"middle\" x=\"101\" y=\"-73.454\" font-family=\"Times,serif\" font-size=\"7.00\" fill=\"#000000\">&gt; 30.6455</text>\n",
       "</g>\n",
       "</g>\n",
       "</svg>\n"
      ],
      "text/plain": [
       "<graphviz.dot.Digraph at 0x121361490>"
      ]
     },
     "metadata": {},
     "output_type": "display_data"
    },
    {
     "name": "stdout",
     "output_type": "stream",
     "text": [
      "Accuracy: 73.12% - n_samples: 5000\n"
     ]
    },
    {
     "data": {
      "image/svg+xml": [
       "<?xml version=\"1.0\" encoding=\"UTF-8\" standalone=\"no\"?>\n",
       "<!DOCTYPE svg PUBLIC \"-//W3C//DTD SVG 1.1//EN\"\n",
       " \"http://www.w3.org/Graphics/SVG/1.1/DTD/svg11.dtd\">\n",
       "<!-- Generated by graphviz version 2.40.1 (20161225.0304)\n",
       " -->\n",
       "<!-- Title: %3 Pages: 1 -->\n",
       "<svg width=\"238pt\" height=\"212pt\"\n",
       " viewBox=\"0.00 0.00 238.00 212.00\" xmlns=\"http://www.w3.org/2000/svg\" xmlns:xlink=\"http://www.w3.org/1999/xlink\">\n",
       "<g id=\"graph0\" class=\"graph\" transform=\"scale(1 1) rotate(0) translate(4 208)\">\n",
       "<title>%3</title>\n",
       "<polygon fill=\"#ffffff\" stroke=\"transparent\" points=\"-4,4 -4,-208 234,-208 234,4 -4,4\"/>\n",
       "<!-- 0 -->\n",
       "<g id=\"node1\" class=\"node\">\n",
       "<title>0</title>\n",
       "<polygon fill=\"#f4caac\" stroke=\"#000000\" stroke-width=\"1.2\" points=\"116,-204 60,-204 60,-168 116,-168 116,-204\"/>\n",
       "<text text-anchor=\"middle\" x=\"88\" y=\"-183.2\" font-family=\"trebuchet\" font-size=\"11.00\" fill=\"#000000\">dew_pnt</text>\n",
       "</g>\n",
       "<!-- 1 -->\n",
       "<g id=\"node2\" class=\"node\">\n",
       "<title>1</title>\n",
       "<polygon fill=\"#eb9d65\" stroke=\"#000000\" stroke-width=\"1.2\" points=\"88,-132 0,-132 0,-84 88,-84 88,-132\"/>\n",
       "<text text-anchor=\"middle\" x=\"44\" y=\"-123.2\" font-family=\"trebuchet\" font-size=\"11.00\" fill=\"#000000\">Class 0:</text>\n",
       "<text text-anchor=\"middle\" x=\"44\" y=\"-111.2\" font-family=\"trebuchet\" font-size=\"11.00\" fill=\"#000000\">\tP(0) = 0.9</text>\n",
       "<text text-anchor=\"middle\" x=\"44\" y=\"-99.2\" font-family=\"trebuchet\" font-size=\"11.00\" fill=\"#000000\">\tP(1) = 0.1</text>\n",
       "<text text-anchor=\"middle\" x=\"44\" y=\"-87.2\" font-family=\"trebuchet\" font-size=\"11.00\" fill=\"#000000\">samples: 1616</text>\n",
       "</g>\n",
       "<!-- 0&#45;&gt;1 -->\n",
       "<g id=\"edge1\" class=\"edge\">\n",
       "<title>0&#45;&gt;1</title>\n",
       "<path fill=\"none\" stroke=\"#000000\" stroke-width=\".6\" d=\"M74,-167.9092C74,-167.9092 74,-142.1988 74,-142.1988\"/>\n",
       "<polygon fill=\"#000000\" stroke=\"#000000\" stroke-width=\".6\" points=\"77.5001,-142.1988 74,-132.1988 70.5001,-142.1988 77.5001,-142.1988\"/>\n",
       "<text text-anchor=\"middle\" x=\"59.5\" y=\"-157.454\" font-family=\"Times,serif\" font-size=\"7.00\" fill=\"#000000\">≤ 30.6455</text>\n",
       "</g>\n",
       "<!-- 2 -->\n",
       "<g id=\"node3\" class=\"node\">\n",
       "<title>2</title>\n",
       "<polygon fill=\"#f9e2d2\" stroke=\"#000000\" stroke-width=\"1.2\" points=\"160,-126 106,-126 106,-90 160,-90 160,-126\"/>\n",
       "<text text-anchor=\"middle\" x=\"133\" y=\"-105.2\" font-family=\"trebuchet\" font-size=\"11.00\" fill=\"#000000\">visibility</text>\n",
       "</g>\n",
       "<!-- 0&#45;&gt;2 -->\n",
       "<g id=\"edge2\" class=\"edge\">\n",
       "<title>0&#45;&gt;2</title>\n",
       "<path fill=\"none\" stroke=\"#000000\" stroke-width=\".6\" d=\"M111,-167.9092C111,-167.9092 111,-136.2629 111,-136.2629\"/>\n",
       "<polygon fill=\"#000000\" stroke=\"#000000\" stroke-width=\".6\" points=\"114.5001,-136.2629 111,-126.2629 107.5001,-136.2629 114.5001,-136.2629\"/>\n",
       "<text text-anchor=\"middle\" x=\"96.5\" y=\"-154.486\" font-family=\"Times,serif\" font-size=\"7.00\" fill=\"#000000\">&gt; 30.6455</text>\n",
       "</g>\n",
       "<!-- 3 -->\n",
       "<g id=\"node4\" class=\"node\">\n",
       "<title>3</title>\n",
       "<polygon fill=\"#a9d4f4\" stroke=\"#000000\" stroke-width=\"1.2\" points=\"124,-48 36,-48 36,0 124,0 124,-48\"/>\n",
       "<text text-anchor=\"middle\" x=\"80\" y=\"-39.2\" font-family=\"trebuchet\" font-size=\"11.00\" fill=\"#000000\">Class 1:</text>\n",
       "<text text-anchor=\"middle\" x=\"80\" y=\"-27.2\" font-family=\"trebuchet\" font-size=\"11.00\" fill=\"#000000\">\tP(0) = 0.3</text>\n",
       "<text text-anchor=\"middle\" x=\"80\" y=\"-15.2\" font-family=\"trebuchet\" font-size=\"11.00\" fill=\"#000000\">\tP(1) = 0.7</text>\n",
       "<text text-anchor=\"middle\" x=\"80\" y=\"-3.2\" font-family=\"trebuchet\" font-size=\"11.00\" fill=\"#000000\">samples: 185</text>\n",
       "</g>\n",
       "<!-- 2&#45;&gt;3 -->\n",
       "<g id=\"edge3\" class=\"edge\">\n",
       "<title>2&#45;&gt;3</title>\n",
       "<path fill=\"none\" stroke=\"#000000\" stroke-width=\".6\" d=\"M115,-89.7733C115,-89.7733 115,-58.2505 115,-58.2505\"/>\n",
       "<polygon fill=\"#000000\" stroke=\"#000000\" stroke-width=\".6\" points=\"118.5001,-58.2504 115,-48.2505 111.5001,-58.2505 118.5001,-58.2504\"/>\n",
       "<text text-anchor=\"middle\" x=\"102.5\" y=\"-76.4119\" font-family=\"Times,serif\" font-size=\"7.00\" fill=\"#000000\">≤ 9.7364</text>\n",
       "</g>\n",
       "<!-- 4 -->\n",
       "<g id=\"node5\" class=\"node\">\n",
       "<title>4</title>\n",
       "<polygon fill=\"#f6d5be\" stroke=\"#000000\" stroke-width=\"1.2\" points=\"230,-48 142,-48 142,0 230,0 230,-48\"/>\n",
       "<text text-anchor=\"middle\" x=\"186\" y=\"-39.2\" font-family=\"trebuchet\" font-size=\"11.00\" fill=\"#000000\">Class 0:</text>\n",
       "<text text-anchor=\"middle\" x=\"186\" y=\"-27.2\" font-family=\"trebuchet\" font-size=\"11.00\" fill=\"#000000\">\tP(0) = 0.7</text>\n",
       "<text text-anchor=\"middle\" x=\"186\" y=\"-15.2\" font-family=\"trebuchet\" font-size=\"11.00\" fill=\"#000000\">\tP(1) = 0.3</text>\n",
       "<text text-anchor=\"middle\" x=\"186\" y=\"-3.2\" font-family=\"trebuchet\" font-size=\"11.00\" fill=\"#000000\">samples: 860</text>\n",
       "</g>\n",
       "<!-- 2&#45;&gt;4 -->\n",
       "<g id=\"edge4\" class=\"edge\">\n",
       "<title>2&#45;&gt;4</title>\n",
       "<path fill=\"none\" stroke=\"#000000\" stroke-width=\".6\" d=\"M151,-89.7733C151,-89.7733 151,-58.2505 151,-58.2505\"/>\n",
       "<polygon fill=\"#000000\" stroke=\"#000000\" stroke-width=\".6\" points=\"154.5001,-58.2504 151,-48.2505 147.5001,-58.2505 154.5001,-58.2504\"/>\n",
       "<text text-anchor=\"middle\" x=\"138.5\" y=\"-76.4119\" font-family=\"Times,serif\" font-size=\"7.00\" fill=\"#000000\">&gt; 9.7364</text>\n",
       "</g>\n",
       "</g>\n",
       "</svg>\n"
      ],
      "text/plain": [
       "<graphviz.dot.Digraph at 0x12135a790>"
      ]
     },
     "metadata": {},
     "output_type": "display_data"
    },
    {
     "name": "stdout",
     "output_type": "stream",
     "text": [
      "Accuracy: 73.20% - n_samples: 6000\n"
     ]
    },
    {
     "data": {
      "image/svg+xml": [
       "<?xml version=\"1.0\" encoding=\"UTF-8\" standalone=\"no\"?>\n",
       "<!DOCTYPE svg PUBLIC \"-//W3C//DTD SVG 1.1//EN\"\n",
       " \"http://www.w3.org/Graphics/SVG/1.1/DTD/svg11.dtd\">\n",
       "<!-- Generated by graphviz version 2.40.1 (20161225.0304)\n",
       " -->\n",
       "<!-- Title: %3 Pages: 1 -->\n",
       "<svg width=\"238pt\" height=\"212pt\"\n",
       " viewBox=\"0.00 0.00 238.00 212.00\" xmlns=\"http://www.w3.org/2000/svg\" xmlns:xlink=\"http://www.w3.org/1999/xlink\">\n",
       "<g id=\"graph0\" class=\"graph\" transform=\"scale(1 1) rotate(0) translate(4 208)\">\n",
       "<title>%3</title>\n",
       "<polygon fill=\"#ffffff\" stroke=\"transparent\" points=\"-4,4 -4,-208 234,-208 234,4 -4,4\"/>\n",
       "<!-- 0 -->\n",
       "<g id=\"node1\" class=\"node\">\n",
       "<title>0</title>\n",
       "<polygon fill=\"#f4caac\" stroke=\"#000000\" stroke-width=\"1.2\" points=\"116,-204 60,-204 60,-168 116,-168 116,-204\"/>\n",
       "<text text-anchor=\"middle\" x=\"88\" y=\"-183.2\" font-family=\"trebuchet\" font-size=\"11.00\" fill=\"#000000\">dew_pnt</text>\n",
       "</g>\n",
       "<!-- 1 -->\n",
       "<g id=\"node2\" class=\"node\">\n",
       "<title>1</title>\n",
       "<polygon fill=\"#eb9c64\" stroke=\"#000000\" stroke-width=\"1.2\" points=\"88,-132 0,-132 0,-84 88,-84 88,-132\"/>\n",
       "<text text-anchor=\"middle\" x=\"44\" y=\"-123.2\" font-family=\"trebuchet\" font-size=\"11.00\" fill=\"#000000\">Class 0:</text>\n",
       "<text text-anchor=\"middle\" x=\"44\" y=\"-111.2\" font-family=\"trebuchet\" font-size=\"11.00\" fill=\"#000000\">\tP(0) = 0.9</text>\n",
       "<text text-anchor=\"middle\" x=\"44\" y=\"-99.2\" font-family=\"trebuchet\" font-size=\"11.00\" fill=\"#000000\">\tP(1) = 0.1</text>\n",
       "<text text-anchor=\"middle\" x=\"44\" y=\"-87.2\" font-family=\"trebuchet\" font-size=\"11.00\" fill=\"#000000\">samples: 2027</text>\n",
       "</g>\n",
       "<!-- 0&#45;&gt;1 -->\n",
       "<g id=\"edge1\" class=\"edge\">\n",
       "<title>0&#45;&gt;1</title>\n",
       "<path fill=\"none\" stroke=\"#000000\" stroke-width=\".6\" d=\"M74,-167.9092C74,-167.9092 74,-142.1988 74,-142.1988\"/>\n",
       "<polygon fill=\"#000000\" stroke=\"#000000\" stroke-width=\".6\" points=\"77.5001,-142.1988 74,-132.1988 70.5001,-142.1988 77.5001,-142.1988\"/>\n",
       "<text text-anchor=\"middle\" x=\"59.5\" y=\"-157.454\" font-family=\"Times,serif\" font-size=\"7.00\" fill=\"#000000\">≤ 30.6455</text>\n",
       "</g>\n",
       "<!-- 2 -->\n",
       "<g id=\"node3\" class=\"node\">\n",
       "<title>2</title>\n",
       "<polygon fill=\"#f9e2d2\" stroke=\"#000000\" stroke-width=\"1.2\" points=\"160,-126 106,-126 106,-90 160,-90 160,-126\"/>\n",
       "<text text-anchor=\"middle\" x=\"133\" y=\"-105.2\" font-family=\"trebuchet\" font-size=\"11.00\" fill=\"#000000\">visibility</text>\n",
       "</g>\n",
       "<!-- 0&#45;&gt;2 -->\n",
       "<g id=\"edge2\" class=\"edge\">\n",
       "<title>0&#45;&gt;2</title>\n",
       "<path fill=\"none\" stroke=\"#000000\" stroke-width=\".6\" d=\"M111,-167.9092C111,-167.9092 111,-136.2629 111,-136.2629\"/>\n",
       "<polygon fill=\"#000000\" stroke=\"#000000\" stroke-width=\".6\" points=\"114.5001,-136.2629 111,-126.2629 107.5001,-136.2629 114.5001,-136.2629\"/>\n",
       "<text text-anchor=\"middle\" x=\"96.5\" y=\"-154.486\" font-family=\"Times,serif\" font-size=\"7.00\" fill=\"#000000\">&gt; 30.6455</text>\n",
       "</g>\n",
       "<!-- 3 -->\n",
       "<g id=\"node4\" class=\"node\">\n",
       "<title>3</title>\n",
       "<polygon fill=\"#b6dbf5\" stroke=\"#000000\" stroke-width=\"1.2\" points=\"124,-48 36,-48 36,0 124,0 124,-48\"/>\n",
       "<text text-anchor=\"middle\" x=\"80\" y=\"-39.2\" font-family=\"trebuchet\" font-size=\"11.00\" fill=\"#000000\">Class 1:</text>\n",
       "<text text-anchor=\"middle\" x=\"80\" y=\"-27.2\" font-family=\"trebuchet\" font-size=\"11.00\" fill=\"#000000\">\tP(0) = 0.3</text>\n",
       "<text text-anchor=\"middle\" x=\"80\" y=\"-15.2\" font-family=\"trebuchet\" font-size=\"11.00\" fill=\"#000000\">\tP(1) = 0.7</text>\n",
       "<text text-anchor=\"middle\" x=\"80\" y=\"-3.2\" font-family=\"trebuchet\" font-size=\"11.00\" fill=\"#000000\">samples: 348</text>\n",
       "</g>\n",
       "<!-- 2&#45;&gt;3 -->\n",
       "<g id=\"edge3\" class=\"edge\">\n",
       "<title>2&#45;&gt;3</title>\n",
       "<path fill=\"none\" stroke=\"#000000\" stroke-width=\".6\" d=\"M115,-89.7733C115,-89.7733 115,-58.2505 115,-58.2505\"/>\n",
       "<polygon fill=\"#000000\" stroke=\"#000000\" stroke-width=\".6\" points=\"118.5001,-58.2504 115,-48.2505 111.5001,-58.2505 118.5001,-58.2504\"/>\n",
       "<text text-anchor=\"middle\" x=\"102.5\" y=\"-76.4119\" font-family=\"Times,serif\" font-size=\"7.00\" fill=\"#000000\">≤ 9.7364</text>\n",
       "</g>\n",
       "<!-- 4 -->\n",
       "<g id=\"node5\" class=\"node\">\n",
       "<title>4</title>\n",
       "<polygon fill=\"#f7d8c2\" stroke=\"#000000\" stroke-width=\"1.2\" points=\"230,-48 142,-48 142,0 230,0 230,-48\"/>\n",
       "<text text-anchor=\"middle\" x=\"186\" y=\"-39.2\" font-family=\"trebuchet\" font-size=\"11.00\" fill=\"#000000\">Class 0:</text>\n",
       "<text text-anchor=\"middle\" x=\"186\" y=\"-27.2\" font-family=\"trebuchet\" font-size=\"11.00\" fill=\"#000000\">\tP(0) = 0.7</text>\n",
       "<text text-anchor=\"middle\" x=\"186\" y=\"-15.2\" font-family=\"trebuchet\" font-size=\"11.00\" fill=\"#000000\">\tP(1) = 0.3</text>\n",
       "<text text-anchor=\"middle\" x=\"186\" y=\"-3.2\" font-family=\"trebuchet\" font-size=\"11.00\" fill=\"#000000\">samples: 1286</text>\n",
       "</g>\n",
       "<!-- 2&#45;&gt;4 -->\n",
       "<g id=\"edge4\" class=\"edge\">\n",
       "<title>2&#45;&gt;4</title>\n",
       "<path fill=\"none\" stroke=\"#000000\" stroke-width=\".6\" d=\"M151,-89.7733C151,-89.7733 151,-58.2505 151,-58.2505\"/>\n",
       "<polygon fill=\"#000000\" stroke=\"#000000\" stroke-width=\".6\" points=\"154.5001,-58.2504 151,-48.2505 147.5001,-58.2505 154.5001,-58.2504\"/>\n",
       "<text text-anchor=\"middle\" x=\"138.5\" y=\"-76.4119\" font-family=\"Times,serif\" font-size=\"7.00\" fill=\"#000000\">&gt; 9.7364</text>\n",
       "</g>\n",
       "</g>\n",
       "</svg>\n"
      ],
      "text/plain": [
       "<graphviz.dot.Digraph at 0x12135aeb0>"
      ]
     },
     "metadata": {},
     "output_type": "display_data"
    },
    {
     "name": "stdout",
     "output_type": "stream",
     "text": [
      "Accuracy: 73.87% - n_samples: 7000\n"
     ]
    },
    {
     "data": {
      "image/svg+xml": [
       "<?xml version=\"1.0\" encoding=\"UTF-8\" standalone=\"no\"?>\n",
       "<!DOCTYPE svg PUBLIC \"-//W3C//DTD SVG 1.1//EN\"\n",
       " \"http://www.w3.org/Graphics/SVG/1.1/DTD/svg11.dtd\">\n",
       "<!-- Generated by graphviz version 2.40.1 (20161225.0304)\n",
       " -->\n",
       "<!-- Title: %3 Pages: 1 -->\n",
       "<svg width=\"238pt\" height=\"212pt\"\n",
       " viewBox=\"0.00 0.00 238.00 212.00\" xmlns=\"http://www.w3.org/2000/svg\" xmlns:xlink=\"http://www.w3.org/1999/xlink\">\n",
       "<g id=\"graph0\" class=\"graph\" transform=\"scale(1 1) rotate(0) translate(4 208)\">\n",
       "<title>%3</title>\n",
       "<polygon fill=\"#ffffff\" stroke=\"transparent\" points=\"-4,4 -4,-208 234,-208 234,4 -4,4\"/>\n",
       "<!-- 0 -->\n",
       "<g id=\"node1\" class=\"node\">\n",
       "<title>0</title>\n",
       "<polygon fill=\"#f4caac\" stroke=\"#000000\" stroke-width=\"1.2\" points=\"116,-204 60,-204 60,-168 116,-168 116,-204\"/>\n",
       "<text text-anchor=\"middle\" x=\"88\" y=\"-183.2\" font-family=\"trebuchet\" font-size=\"11.00\" fill=\"#000000\">dew_pnt</text>\n",
       "</g>\n",
       "<!-- 1 -->\n",
       "<g id=\"node2\" class=\"node\">\n",
       "<title>1</title>\n",
       "<polygon fill=\"#ea9c63\" stroke=\"#000000\" stroke-width=\"1.2\" points=\"88,-132 0,-132 0,-84 88,-84 88,-132\"/>\n",
       "<text text-anchor=\"middle\" x=\"44\" y=\"-123.2\" font-family=\"trebuchet\" font-size=\"11.00\" fill=\"#000000\">Class 0:</text>\n",
       "<text text-anchor=\"middle\" x=\"44\" y=\"-111.2\" font-family=\"trebuchet\" font-size=\"11.00\" fill=\"#000000\">\tP(0) = 0.9</text>\n",
       "<text text-anchor=\"middle\" x=\"44\" y=\"-99.2\" font-family=\"trebuchet\" font-size=\"11.00\" fill=\"#000000\">\tP(1) = 0.1</text>\n",
       "<text text-anchor=\"middle\" x=\"44\" y=\"-87.2\" font-family=\"trebuchet\" font-size=\"11.00\" fill=\"#000000\">samples: 2419</text>\n",
       "</g>\n",
       "<!-- 0&#45;&gt;1 -->\n",
       "<g id=\"edge1\" class=\"edge\">\n",
       "<title>0&#45;&gt;1</title>\n",
       "<path fill=\"none\" stroke=\"#000000\" stroke-width=\".6\" d=\"M74,-167.9092C74,-167.9092 74,-142.1988 74,-142.1988\"/>\n",
       "<polygon fill=\"#000000\" stroke=\"#000000\" stroke-width=\".6\" points=\"77.5001,-142.1988 74,-132.1988 70.5001,-142.1988 77.5001,-142.1988\"/>\n",
       "<text text-anchor=\"middle\" x=\"59.5\" y=\"-157.454\" font-family=\"Times,serif\" font-size=\"7.00\" fill=\"#000000\">≤ 30.6455</text>\n",
       "</g>\n",
       "<!-- 2 -->\n",
       "<g id=\"node3\" class=\"node\">\n",
       "<title>2</title>\n",
       "<polygon fill=\"#f9e2d2\" stroke=\"#000000\" stroke-width=\"1.2\" points=\"160,-126 106,-126 106,-90 160,-90 160,-126\"/>\n",
       "<text text-anchor=\"middle\" x=\"133\" y=\"-105.2\" font-family=\"trebuchet\" font-size=\"11.00\" fill=\"#000000\">visibility</text>\n",
       "</g>\n",
       "<!-- 0&#45;&gt;2 -->\n",
       "<g id=\"edge2\" class=\"edge\">\n",
       "<title>0&#45;&gt;2</title>\n",
       "<path fill=\"none\" stroke=\"#000000\" stroke-width=\".6\" d=\"M111,-167.9092C111,-167.9092 111,-136.2629 111,-136.2629\"/>\n",
       "<polygon fill=\"#000000\" stroke=\"#000000\" stroke-width=\".6\" points=\"114.5001,-136.2629 111,-126.2629 107.5001,-136.2629 114.5001,-136.2629\"/>\n",
       "<text text-anchor=\"middle\" x=\"96.5\" y=\"-154.486\" font-family=\"Times,serif\" font-size=\"7.00\" fill=\"#000000\">&gt; 30.6455</text>\n",
       "</g>\n",
       "<!-- 3 -->\n",
       "<g id=\"node4\" class=\"node\">\n",
       "<title>3</title>\n",
       "<polygon fill=\"#bbddf6\" stroke=\"#000000\" stroke-width=\"1.2\" points=\"124,-48 36,-48 36,0 124,0 124,-48\"/>\n",
       "<text text-anchor=\"middle\" x=\"80\" y=\"-39.2\" font-family=\"trebuchet\" font-size=\"11.00\" fill=\"#000000\">Class 1:</text>\n",
       "<text text-anchor=\"middle\" x=\"80\" y=\"-27.2\" font-family=\"trebuchet\" font-size=\"11.00\" fill=\"#000000\">\tP(0) = 0.3</text>\n",
       "<text text-anchor=\"middle\" x=\"80\" y=\"-15.2\" font-family=\"trebuchet\" font-size=\"11.00\" fill=\"#000000\">\tP(1) = 0.7</text>\n",
       "<text text-anchor=\"middle\" x=\"80\" y=\"-3.2\" font-family=\"trebuchet\" font-size=\"11.00\" fill=\"#000000\">samples: 534</text>\n",
       "</g>\n",
       "<!-- 2&#45;&gt;3 -->\n",
       "<g id=\"edge3\" class=\"edge\">\n",
       "<title>2&#45;&gt;3</title>\n",
       "<path fill=\"none\" stroke=\"#000000\" stroke-width=\".6\" d=\"M115,-89.7733C115,-89.7733 115,-58.2505 115,-58.2505\"/>\n",
       "<polygon fill=\"#000000\" stroke=\"#000000\" stroke-width=\".6\" points=\"118.5001,-58.2504 115,-48.2505 111.5001,-58.2505 118.5001,-58.2504\"/>\n",
       "<text text-anchor=\"middle\" x=\"102.5\" y=\"-76.4119\" font-family=\"Times,serif\" font-size=\"7.00\" fill=\"#000000\">≤ 9.7364</text>\n",
       "</g>\n",
       "<!-- 4 -->\n",
       "<g id=\"node5\" class=\"node\">\n",
       "<title>4</title>\n",
       "<polygon fill=\"#f6d6be\" stroke=\"#000000\" stroke-width=\"1.2\" points=\"230,-48 142,-48 142,0 230,0 230,-48\"/>\n",
       "<text text-anchor=\"middle\" x=\"186\" y=\"-39.2\" font-family=\"trebuchet\" font-size=\"11.00\" fill=\"#000000\">Class 0:</text>\n",
       "<text text-anchor=\"middle\" x=\"186\" y=\"-27.2\" font-family=\"trebuchet\" font-size=\"11.00\" fill=\"#000000\">\tP(0) = 0.7</text>\n",
       "<text text-anchor=\"middle\" x=\"186\" y=\"-15.2\" font-family=\"trebuchet\" font-size=\"11.00\" fill=\"#000000\">\tP(1) = 0.3</text>\n",
       "<text text-anchor=\"middle\" x=\"186\" y=\"-3.2\" font-family=\"trebuchet\" font-size=\"11.00\" fill=\"#000000\">samples: 1708</text>\n",
       "</g>\n",
       "<!-- 2&#45;&gt;4 -->\n",
       "<g id=\"edge4\" class=\"edge\">\n",
       "<title>2&#45;&gt;4</title>\n",
       "<path fill=\"none\" stroke=\"#000000\" stroke-width=\".6\" d=\"M151,-89.7733C151,-89.7733 151,-58.2505 151,-58.2505\"/>\n",
       "<polygon fill=\"#000000\" stroke=\"#000000\" stroke-width=\".6\" points=\"154.5001,-58.2504 151,-48.2505 147.5001,-58.2505 154.5001,-58.2504\"/>\n",
       "<text text-anchor=\"middle\" x=\"138.5\" y=\"-76.4119\" font-family=\"Times,serif\" font-size=\"7.00\" fill=\"#000000\">&gt; 9.7364</text>\n",
       "</g>\n",
       "</g>\n",
       "</svg>\n"
      ],
      "text/plain": [
       "<graphviz.dot.Digraph at 0x12135a700>"
      ]
     },
     "metadata": {},
     "output_type": "display_data"
    },
    {
     "name": "stdout",
     "output_type": "stream",
     "text": [
      "Accuracy: 73.56% - n_samples: 8000\n"
     ]
    },
    {
     "data": {
      "image/svg+xml": [
       "<?xml version=\"1.0\" encoding=\"UTF-8\" standalone=\"no\"?>\n",
       "<!DOCTYPE svg PUBLIC \"-//W3C//DTD SVG 1.1//EN\"\n",
       " \"http://www.w3.org/Graphics/SVG/1.1/DTD/svg11.dtd\">\n",
       "<!-- Generated by graphviz version 2.40.1 (20161225.0304)\n",
       " -->\n",
       "<!-- Title: %3 Pages: 1 -->\n",
       "<svg width=\"238pt\" height=\"212pt\"\n",
       " viewBox=\"0.00 0.00 238.00 212.00\" xmlns=\"http://www.w3.org/2000/svg\" xmlns:xlink=\"http://www.w3.org/1999/xlink\">\n",
       "<g id=\"graph0\" class=\"graph\" transform=\"scale(1 1) rotate(0) translate(4 208)\">\n",
       "<title>%3</title>\n",
       "<polygon fill=\"#ffffff\" stroke=\"transparent\" points=\"-4,4 -4,-208 234,-208 234,4 -4,4\"/>\n",
       "<!-- 0 -->\n",
       "<g id=\"node1\" class=\"node\">\n",
       "<title>0</title>\n",
       "<polygon fill=\"#f4caac\" stroke=\"#000000\" stroke-width=\"1.2\" points=\"116,-204 60,-204 60,-168 116,-168 116,-204\"/>\n",
       "<text text-anchor=\"middle\" x=\"88\" y=\"-183.2\" font-family=\"trebuchet\" font-size=\"11.00\" fill=\"#000000\">dew_pnt</text>\n",
       "</g>\n",
       "<!-- 1 -->\n",
       "<g id=\"node2\" class=\"node\">\n",
       "<title>1</title>\n",
       "<polygon fill=\"#eb9d65\" stroke=\"#000000\" stroke-width=\"1.2\" points=\"88,-132 0,-132 0,-84 88,-84 88,-132\"/>\n",
       "<text text-anchor=\"middle\" x=\"44\" y=\"-123.2\" font-family=\"trebuchet\" font-size=\"11.00\" fill=\"#000000\">Class 0:</text>\n",
       "<text text-anchor=\"middle\" x=\"44\" y=\"-111.2\" font-family=\"trebuchet\" font-size=\"11.00\" fill=\"#000000\">\tP(0) = 0.9</text>\n",
       "<text text-anchor=\"middle\" x=\"44\" y=\"-99.2\" font-family=\"trebuchet\" font-size=\"11.00\" fill=\"#000000\">\tP(1) = 0.1</text>\n",
       "<text text-anchor=\"middle\" x=\"44\" y=\"-87.2\" font-family=\"trebuchet\" font-size=\"11.00\" fill=\"#000000\">samples: 2757</text>\n",
       "</g>\n",
       "<!-- 0&#45;&gt;1 -->\n",
       "<g id=\"edge1\" class=\"edge\">\n",
       "<title>0&#45;&gt;1</title>\n",
       "<path fill=\"none\" stroke=\"#000000\" stroke-width=\".6\" d=\"M74,-167.9092C74,-167.9092 74,-142.1988 74,-142.1988\"/>\n",
       "<polygon fill=\"#000000\" stroke=\"#000000\" stroke-width=\".6\" points=\"77.5001,-142.1988 74,-132.1988 70.5001,-142.1988 77.5001,-142.1988\"/>\n",
       "<text text-anchor=\"middle\" x=\"59.5\" y=\"-157.454\" font-family=\"Times,serif\" font-size=\"7.00\" fill=\"#000000\">≤ 30.6455</text>\n",
       "</g>\n",
       "<!-- 2 -->\n",
       "<g id=\"node3\" class=\"node\">\n",
       "<title>2</title>\n",
       "<polygon fill=\"#f9e2d2\" stroke=\"#000000\" stroke-width=\"1.2\" points=\"160,-126 106,-126 106,-90 160,-90 160,-126\"/>\n",
       "<text text-anchor=\"middle\" x=\"133\" y=\"-105.2\" font-family=\"trebuchet\" font-size=\"11.00\" fill=\"#000000\">visibility</text>\n",
       "</g>\n",
       "<!-- 0&#45;&gt;2 -->\n",
       "<g id=\"edge2\" class=\"edge\">\n",
       "<title>0&#45;&gt;2</title>\n",
       "<path fill=\"none\" stroke=\"#000000\" stroke-width=\".6\" d=\"M111,-167.9092C111,-167.9092 111,-136.2629 111,-136.2629\"/>\n",
       "<polygon fill=\"#000000\" stroke=\"#000000\" stroke-width=\".6\" points=\"114.5001,-136.2629 111,-126.2629 107.5001,-136.2629 114.5001,-136.2629\"/>\n",
       "<text text-anchor=\"middle\" x=\"96.5\" y=\"-154.486\" font-family=\"Times,serif\" font-size=\"7.00\" fill=\"#000000\">&gt; 30.6455</text>\n",
       "</g>\n",
       "<!-- 3 -->\n",
       "<g id=\"node4\" class=\"node\">\n",
       "<title>3</title>\n",
       "<polygon fill=\"#c3e1f7\" stroke=\"#000000\" stroke-width=\"1.2\" points=\"124,-48 36,-48 36,0 124,0 124,-48\"/>\n",
       "<text text-anchor=\"middle\" x=\"80\" y=\"-39.2\" font-family=\"trebuchet\" font-size=\"11.00\" fill=\"#000000\">Class 1:</text>\n",
       "<text text-anchor=\"middle\" x=\"80\" y=\"-27.2\" font-family=\"trebuchet\" font-size=\"11.00\" fill=\"#000000\">\tP(0) = 0.3</text>\n",
       "<text text-anchor=\"middle\" x=\"80\" y=\"-15.2\" font-family=\"trebuchet\" font-size=\"11.00\" fill=\"#000000\">\tP(1) = 0.7</text>\n",
       "<text text-anchor=\"middle\" x=\"80\" y=\"-3.2\" font-family=\"trebuchet\" font-size=\"11.00\" fill=\"#000000\">samples: 720</text>\n",
       "</g>\n",
       "<!-- 2&#45;&gt;3 -->\n",
       "<g id=\"edge3\" class=\"edge\">\n",
       "<title>2&#45;&gt;3</title>\n",
       "<path fill=\"none\" stroke=\"#000000\" stroke-width=\".6\" d=\"M115,-89.7733C115,-89.7733 115,-58.2505 115,-58.2505\"/>\n",
       "<polygon fill=\"#000000\" stroke=\"#000000\" stroke-width=\".6\" points=\"118.5001,-58.2504 115,-48.2505 111.5001,-58.2505 118.5001,-58.2504\"/>\n",
       "<text text-anchor=\"middle\" x=\"102.5\" y=\"-76.4119\" font-family=\"Times,serif\" font-size=\"7.00\" fill=\"#000000\">≤ 9.7364</text>\n",
       "</g>\n",
       "<!-- 4 -->\n",
       "<g id=\"node5\" class=\"node\">\n",
       "<title>4</title>\n",
       "<polygon fill=\"#f6d6be\" stroke=\"#000000\" stroke-width=\"1.2\" points=\"230,-48 142,-48 142,0 230,0 230,-48\"/>\n",
       "<text text-anchor=\"middle\" x=\"186\" y=\"-39.2\" font-family=\"trebuchet\" font-size=\"11.00\" fill=\"#000000\">Class 0:</text>\n",
       "<text text-anchor=\"middle\" x=\"186\" y=\"-27.2\" font-family=\"trebuchet\" font-size=\"11.00\" fill=\"#000000\">\tP(0) = 0.7</text>\n",
       "<text text-anchor=\"middle\" x=\"186\" y=\"-15.2\" font-family=\"trebuchet\" font-size=\"11.00\" fill=\"#000000\">\tP(1) = 0.3</text>\n",
       "<text text-anchor=\"middle\" x=\"186\" y=\"-3.2\" font-family=\"trebuchet\" font-size=\"11.00\" fill=\"#000000\">samples: 2184</text>\n",
       "</g>\n",
       "<!-- 2&#45;&gt;4 -->\n",
       "<g id=\"edge4\" class=\"edge\">\n",
       "<title>2&#45;&gt;4</title>\n",
       "<path fill=\"none\" stroke=\"#000000\" stroke-width=\".6\" d=\"M151,-89.7733C151,-89.7733 151,-58.2505 151,-58.2505\"/>\n",
       "<polygon fill=\"#000000\" stroke=\"#000000\" stroke-width=\".6\" points=\"154.5001,-58.2504 151,-48.2505 147.5001,-58.2505 154.5001,-58.2504\"/>\n",
       "<text text-anchor=\"middle\" x=\"138.5\" y=\"-76.4119\" font-family=\"Times,serif\" font-size=\"7.00\" fill=\"#000000\">&gt; 9.7364</text>\n",
       "</g>\n",
       "</g>\n",
       "</svg>\n"
      ],
      "text/plain": [
       "<graphviz.dot.Digraph at 0x12135ab20>"
      ]
     },
     "metadata": {},
     "output_type": "display_data"
    },
    {
     "name": "stdout",
     "output_type": "stream",
     "text": [
      "Accuracy: 73.69% - n_samples: 9000\n"
     ]
    },
    {
     "data": {
      "image/svg+xml": [
       "<?xml version=\"1.0\" encoding=\"UTF-8\" standalone=\"no\"?>\n",
       "<!DOCTYPE svg PUBLIC \"-//W3C//DTD SVG 1.1//EN\"\n",
       " \"http://www.w3.org/Graphics/SVG/1.1/DTD/svg11.dtd\">\n",
       "<!-- Generated by graphviz version 2.40.1 (20161225.0304)\n",
       " -->\n",
       "<!-- Title: %3 Pages: 1 -->\n",
       "<svg width=\"238pt\" height=\"212pt\"\n",
       " viewBox=\"0.00 0.00 238.00 212.00\" xmlns=\"http://www.w3.org/2000/svg\" xmlns:xlink=\"http://www.w3.org/1999/xlink\">\n",
       "<g id=\"graph0\" class=\"graph\" transform=\"scale(1 1) rotate(0) translate(4 208)\">\n",
       "<title>%3</title>\n",
       "<polygon fill=\"#ffffff\" stroke=\"transparent\" points=\"-4,4 -4,-208 234,-208 234,4 -4,4\"/>\n",
       "<!-- 0 -->\n",
       "<g id=\"node1\" class=\"node\">\n",
       "<title>0</title>\n",
       "<polygon fill=\"#f4caac\" stroke=\"#000000\" stroke-width=\"1.2\" points=\"116,-204 60,-204 60,-168 116,-168 116,-204\"/>\n",
       "<text text-anchor=\"middle\" x=\"88\" y=\"-183.2\" font-family=\"trebuchet\" font-size=\"11.00\" fill=\"#000000\">dew_pnt</text>\n",
       "</g>\n",
       "<!-- 1 -->\n",
       "<g id=\"node2\" class=\"node\">\n",
       "<title>1</title>\n",
       "<polygon fill=\"#eb9f67\" stroke=\"#000000\" stroke-width=\"1.2\" points=\"88,-132 0,-132 0,-84 88,-84 88,-132\"/>\n",
       "<text text-anchor=\"middle\" x=\"44\" y=\"-123.2\" font-family=\"trebuchet\" font-size=\"11.00\" fill=\"#000000\">Class 0:</text>\n",
       "<text text-anchor=\"middle\" x=\"44\" y=\"-111.2\" font-family=\"trebuchet\" font-size=\"11.00\" fill=\"#000000\">\tP(0) = 0.9</text>\n",
       "<text text-anchor=\"middle\" x=\"44\" y=\"-99.2\" font-family=\"trebuchet\" font-size=\"11.00\" fill=\"#000000\">\tP(1) = 0.1</text>\n",
       "<text text-anchor=\"middle\" x=\"44\" y=\"-87.2\" font-family=\"trebuchet\" font-size=\"11.00\" fill=\"#000000\">samples: 3139</text>\n",
       "</g>\n",
       "<!-- 0&#45;&gt;1 -->\n",
       "<g id=\"edge1\" class=\"edge\">\n",
       "<title>0&#45;&gt;1</title>\n",
       "<path fill=\"none\" stroke=\"#000000\" stroke-width=\".6\" d=\"M74,-167.9092C74,-167.9092 74,-142.1988 74,-142.1988\"/>\n",
       "<polygon fill=\"#000000\" stroke=\"#000000\" stroke-width=\".6\" points=\"77.5001,-142.1988 74,-132.1988 70.5001,-142.1988 77.5001,-142.1988\"/>\n",
       "<text text-anchor=\"middle\" x=\"59.5\" y=\"-157.454\" font-family=\"Times,serif\" font-size=\"7.00\" fill=\"#000000\">≤ 30.6455</text>\n",
       "</g>\n",
       "<!-- 2 -->\n",
       "<g id=\"node3\" class=\"node\">\n",
       "<title>2</title>\n",
       "<polygon fill=\"#f9e2d2\" stroke=\"#000000\" stroke-width=\"1.2\" points=\"160,-126 106,-126 106,-90 160,-90 160,-126\"/>\n",
       "<text text-anchor=\"middle\" x=\"133\" y=\"-105.2\" font-family=\"trebuchet\" font-size=\"11.00\" fill=\"#000000\">visibility</text>\n",
       "</g>\n",
       "<!-- 0&#45;&gt;2 -->\n",
       "<g id=\"edge2\" class=\"edge\">\n",
       "<title>0&#45;&gt;2</title>\n",
       "<path fill=\"none\" stroke=\"#000000\" stroke-width=\".6\" d=\"M111,-167.9092C111,-167.9092 111,-136.2629 111,-136.2629\"/>\n",
       "<polygon fill=\"#000000\" stroke=\"#000000\" stroke-width=\".6\" points=\"114.5001,-136.2629 111,-126.2629 107.5001,-136.2629 114.5001,-136.2629\"/>\n",
       "<text text-anchor=\"middle\" x=\"96.5\" y=\"-154.486\" font-family=\"Times,serif\" font-size=\"7.00\" fill=\"#000000\">&gt; 30.6455</text>\n",
       "</g>\n",
       "<!-- 3 -->\n",
       "<g id=\"node4\" class=\"node\">\n",
       "<title>3</title>\n",
       "<polygon fill=\"#bedff6\" stroke=\"#000000\" stroke-width=\"1.2\" points=\"124,-48 36,-48 36,0 124,0 124,-48\"/>\n",
       "<text text-anchor=\"middle\" x=\"80\" y=\"-39.2\" font-family=\"trebuchet\" font-size=\"11.00\" fill=\"#000000\">Class 1:</text>\n",
       "<text text-anchor=\"middle\" x=\"80\" y=\"-27.2\" font-family=\"trebuchet\" font-size=\"11.00\" fill=\"#000000\">\tP(0) = 0.3</text>\n",
       "<text text-anchor=\"middle\" x=\"80\" y=\"-15.2\" font-family=\"trebuchet\" font-size=\"11.00\" fill=\"#000000\">\tP(1) = 0.7</text>\n",
       "<text text-anchor=\"middle\" x=\"80\" y=\"-3.2\" font-family=\"trebuchet\" font-size=\"11.00\" fill=\"#000000\">samples: 814</text>\n",
       "</g>\n",
       "<!-- 2&#45;&gt;3 -->\n",
       "<g id=\"edge3\" class=\"edge\">\n",
       "<title>2&#45;&gt;3</title>\n",
       "<path fill=\"none\" stroke=\"#000000\" stroke-width=\".6\" d=\"M115,-89.7733C115,-89.7733 115,-58.2505 115,-58.2505\"/>\n",
       "<polygon fill=\"#000000\" stroke=\"#000000\" stroke-width=\".6\" points=\"118.5001,-58.2504 115,-48.2505 111.5001,-58.2505 118.5001,-58.2504\"/>\n",
       "<text text-anchor=\"middle\" x=\"102.5\" y=\"-76.4119\" font-family=\"Times,serif\" font-size=\"7.00\" fill=\"#000000\">≤ 9.7364</text>\n",
       "</g>\n",
       "<!-- 4 -->\n",
       "<g id=\"node5\" class=\"node\">\n",
       "<title>4</title>\n",
       "<polygon fill=\"#f7d7bf\" stroke=\"#000000\" stroke-width=\"1.2\" points=\"230,-48 142,-48 142,0 230,0 230,-48\"/>\n",
       "<text text-anchor=\"middle\" x=\"186\" y=\"-39.2\" font-family=\"trebuchet\" font-size=\"11.00\" fill=\"#000000\">Class 0:</text>\n",
       "<text text-anchor=\"middle\" x=\"186\" y=\"-27.2\" font-family=\"trebuchet\" font-size=\"11.00\" fill=\"#000000\">\tP(0) = 0.7</text>\n",
       "<text text-anchor=\"middle\" x=\"186\" y=\"-15.2\" font-family=\"trebuchet\" font-size=\"11.00\" fill=\"#000000\">\tP(1) = 0.3</text>\n",
       "<text text-anchor=\"middle\" x=\"186\" y=\"-3.2\" font-family=\"trebuchet\" font-size=\"11.00\" fill=\"#000000\">samples: 2708</text>\n",
       "</g>\n",
       "<!-- 2&#45;&gt;4 -->\n",
       "<g id=\"edge4\" class=\"edge\">\n",
       "<title>2&#45;&gt;4</title>\n",
       "<path fill=\"none\" stroke=\"#000000\" stroke-width=\".6\" d=\"M151,-89.7733C151,-89.7733 151,-58.2505 151,-58.2505\"/>\n",
       "<polygon fill=\"#000000\" stroke=\"#000000\" stroke-width=\".6\" points=\"154.5001,-58.2504 151,-48.2505 147.5001,-58.2505 154.5001,-58.2504\"/>\n",
       "<text text-anchor=\"middle\" x=\"138.5\" y=\"-76.4119\" font-family=\"Times,serif\" font-size=\"7.00\" fill=\"#000000\">&gt; 9.7364</text>\n",
       "</g>\n",
       "</g>\n",
       "</svg>\n"
      ],
      "text/plain": [
       "<graphviz.dot.Digraph at 0x12135aa30>"
      ]
     },
     "metadata": {},
     "output_type": "display_data"
    },
    {
     "name": "stdout",
     "output_type": "stream",
     "text": [
      "Accuracy: 73.76% - n_samples: 10000\n"
     ]
    },
    {
     "data": {
      "image/svg+xml": [
       "<?xml version=\"1.0\" encoding=\"UTF-8\" standalone=\"no\"?>\n",
       "<!DOCTYPE svg PUBLIC \"-//W3C//DTD SVG 1.1//EN\"\n",
       " \"http://www.w3.org/Graphics/SVG/1.1/DTD/svg11.dtd\">\n",
       "<!-- Generated by graphviz version 2.40.1 (20161225.0304)\n",
       " -->\n",
       "<!-- Title: %3 Pages: 1 -->\n",
       "<svg width=\"414pt\" height=\"200pt\"\n",
       " viewBox=\"0.00 0.00 414.00 200.00\" xmlns=\"http://www.w3.org/2000/svg\" xmlns:xlink=\"http://www.w3.org/1999/xlink\">\n",
       "<g id=\"graph0\" class=\"graph\" transform=\"scale(1 1) rotate(0) translate(4 196)\">\n",
       "<title>%3</title>\n",
       "<polygon fill=\"#ffffff\" stroke=\"transparent\" points=\"-4,4 -4,-196 410,-196 410,4 -4,4\"/>\n",
       "<!-- 0 -->\n",
       "<g id=\"node1\" class=\"node\">\n",
       "<title>0</title>\n",
       "<polygon fill=\"#f4caac\" stroke=\"#000000\" stroke-width=\"1.2\" points=\"231,-192 175,-192 175,-156 231,-156 231,-192\"/>\n",
       "<text text-anchor=\"middle\" x=\"203\" y=\"-171.2\" font-family=\"trebuchet\" font-size=\"11.00\" fill=\"#000000\">dew_pnt</text>\n",
       "</g>\n",
       "<!-- 1 -->\n",
       "<g id=\"node2\" class=\"node\">\n",
       "<title>1</title>\n",
       "<polygon fill=\"#eb9f67\" stroke=\"#000000\" stroke-width=\"1.2\" points=\"178,-120 122,-120 122,-84 178,-84 178,-120\"/>\n",
       "<text text-anchor=\"middle\" x=\"150\" y=\"-99.2\" font-family=\"trebuchet\" font-size=\"11.00\" fill=\"#000000\">dew_pnt</text>\n",
       "</g>\n",
       "<!-- 0&#45;&gt;1 -->\n",
       "<g id=\"edge1\" class=\"edge\">\n",
       "<title>0&#45;&gt;1</title>\n",
       "<path fill=\"none\" stroke=\"#000000\" stroke-width=\".6\" d=\"M186,-155.9092C186,-132.8672 186,-96 186,-96 186,-96 185.201,-96 185.201,-96\"/>\n",
       "<polygon fill=\"#000000\" stroke=\"#000000\" stroke-width=\".6\" points=\"188.0105,-92.5001 178.0104,-96 188.0104,-99.5001 188.0105,-92.5001\"/>\n",
       "<text text-anchor=\"middle\" x=\"171.5\" y=\"-127.9551\" font-family=\"Times,serif\" font-size=\"7.00\" fill=\"#000000\">≤ 30.6455</text>\n",
       "</g>\n",
       "<!-- 4 -->\n",
       "<g id=\"node5\" class=\"node\">\n",
       "<title>4</title>\n",
       "<polygon fill=\"#f9e2d2\" stroke=\"#000000\" stroke-width=\"1.2\" points=\"283,-120 229,-120 229,-84 283,-84 283,-120\"/>\n",
       "<text text-anchor=\"middle\" x=\"256\" y=\"-99.2\" font-family=\"trebuchet\" font-size=\"11.00\" fill=\"#000000\">visibility</text>\n",
       "</g>\n",
       "<!-- 0&#45;&gt;4 -->\n",
       "<g id=\"edge4\" class=\"edge\">\n",
       "<title>0&#45;&gt;4</title>\n",
       "<path fill=\"none\" stroke=\"#000000\" stroke-width=\".6\" d=\"M220.5,-155.9652C220.5,-136.4238 220.5,-108 220.5,-108 220.5,-108 221.3234,-108 221.3234,-108\"/>\n",
       "<polygon fill=\"#000000\" stroke=\"#000000\" stroke-width=\".6\" points=\"218.7337,-111.5001 228.7336,-108 218.7336,-104.5001 218.7337,-111.5001\"/>\n",
       "<text text-anchor=\"middle\" x=\"206\" y=\"-133.9709\" font-family=\"Times,serif\" font-size=\"7.00\" fill=\"#000000\">&gt; 30.6455</text>\n",
       "</g>\n",
       "<!-- 2 -->\n",
       "<g id=\"node3\" class=\"node\">\n",
       "<title>2</title>\n",
       "<polygon fill=\"#e68641\" stroke=\"#000000\" stroke-width=\"1.2\" points=\"88,-48 0,-48 0,0 88,0 88,-48\"/>\n",
       "<text text-anchor=\"middle\" x=\"44\" y=\"-39.2\" font-family=\"trebuchet\" font-size=\"11.00\" fill=\"#000000\">Class 0:</text>\n",
       "<text text-anchor=\"middle\" x=\"44\" y=\"-27.2\" font-family=\"trebuchet\" font-size=\"11.00\" fill=\"#000000\">\tP(0) = 1.0</text>\n",
       "<text text-anchor=\"middle\" x=\"44\" y=\"-15.2\" font-family=\"trebuchet\" font-size=\"11.00\" fill=\"#000000\">\tP(1) = 0.0</text>\n",
       "<text text-anchor=\"middle\" x=\"44\" y=\"-3.2\" font-family=\"trebuchet\" font-size=\"11.00\" fill=\"#000000\">samples: 1037</text>\n",
       "</g>\n",
       "<!-- 1&#45;&gt;2 -->\n",
       "<g id=\"edge2\" class=\"edge\">\n",
       "<title>1&#45;&gt;2</title>\n",
       "<path fill=\"none\" stroke=\"#000000\" stroke-width=\".6\" d=\"M121.8722,-102C90.4692,-102 44,-102 44,-102 44,-102 44,-58.2521 44,-58.2521\"/>\n",
       "<polygon fill=\"#000000\" stroke=\"#000000\" stroke-width=\".6\" points=\"47.5001,-58.2521 44,-48.2521 40.5001,-58.2522 47.5001,-58.2521\"/>\n",
       "<text text-anchor=\"middle\" x=\"46.5622\" y=\"-104.4\" font-family=\"Times,serif\" font-size=\"7.00\" fill=\"#000000\">≤ 15.6545</text>\n",
       "</g>\n",
       "<!-- 3 -->\n",
       "<g id=\"node4\" class=\"node\">\n",
       "<title>3</title>\n",
       "<polygon fill=\"#f0b78e\" stroke=\"#000000\" stroke-width=\"1.2\" points=\"194,-48 106,-48 106,0 194,0 194,-48\"/>\n",
       "<text text-anchor=\"middle\" x=\"150\" y=\"-39.2\" font-family=\"trebuchet\" font-size=\"11.00\" fill=\"#000000\">Class 0:</text>\n",
       "<text text-anchor=\"middle\" x=\"150\" y=\"-27.2\" font-family=\"trebuchet\" font-size=\"11.00\" fill=\"#000000\">\tP(0) = 0.8</text>\n",
       "<text text-anchor=\"middle\" x=\"150\" y=\"-15.2\" font-family=\"trebuchet\" font-size=\"11.00\" fill=\"#000000\">\tP(1) = 0.2</text>\n",
       "<text text-anchor=\"middle\" x=\"150\" y=\"-3.2\" font-family=\"trebuchet\" font-size=\"11.00\" fill=\"#000000\">samples: 1415</text>\n",
       "</g>\n",
       "<!-- 1&#45;&gt;3 -->\n",
       "<g id=\"edge3\" class=\"edge\">\n",
       "<title>1&#45;&gt;3</title>\n",
       "<path fill=\"none\" stroke=\"#000000\" stroke-width=\".6\" d=\"M150,-83.9092C150,-83.9092 150,-58.1988 150,-58.1988\"/>\n",
       "<polygon fill=\"#000000\" stroke=\"#000000\" stroke-width=\".6\" points=\"153.5001,-58.1988 150,-48.1988 146.5001,-58.1988 153.5001,-58.1988\"/>\n",
       "<text text-anchor=\"middle\" x=\"135.5\" y=\"-73.454\" font-family=\"Times,serif\" font-size=\"7.00\" fill=\"#000000\">&gt; 15.6545</text>\n",
       "</g>\n",
       "<!-- 5 -->\n",
       "<g id=\"node6\" class=\"node\">\n",
       "<title>5</title>\n",
       "<polygon fill=\"#bfdff7\" stroke=\"#000000\" stroke-width=\"1.2\" points=\"300,-48 212,-48 212,0 300,0 300,-48\"/>\n",
       "<text text-anchor=\"middle\" x=\"256\" y=\"-39.2\" font-family=\"trebuchet\" font-size=\"11.00\" fill=\"#000000\">Class 1:</text>\n",
       "<text text-anchor=\"middle\" x=\"256\" y=\"-27.2\" font-family=\"trebuchet\" font-size=\"11.00\" fill=\"#000000\">\tP(0) = 0.3</text>\n",
       "<text text-anchor=\"middle\" x=\"256\" y=\"-15.2\" font-family=\"trebuchet\" font-size=\"11.00\" fill=\"#000000\">\tP(1) = 0.7</text>\n",
       "<text text-anchor=\"middle\" x=\"256\" y=\"-3.2\" font-family=\"trebuchet\" font-size=\"11.00\" fill=\"#000000\">samples: 904</text>\n",
       "</g>\n",
       "<!-- 4&#45;&gt;5 -->\n",
       "<g id=\"edge5\" class=\"edge\">\n",
       "<title>4&#45;&gt;5</title>\n",
       "<path fill=\"none\" stroke=\"#000000\" stroke-width=\".6\" d=\"M256,-83.9092C256,-83.9092 256,-58.1988 256,-58.1988\"/>\n",
       "<polygon fill=\"#000000\" stroke=\"#000000\" stroke-width=\".6\" points=\"259.5001,-58.1988 256,-48.1988 252.5001,-58.1988 259.5001,-58.1988\"/>\n",
       "<text text-anchor=\"middle\" x=\"243.5\" y=\"-73.454\" font-family=\"Times,serif\" font-size=\"7.00\" fill=\"#000000\">≤ 9.7364</text>\n",
       "</g>\n",
       "<!-- 6 -->\n",
       "<g id=\"node7\" class=\"node\">\n",
       "<title>6</title>\n",
       "<polygon fill=\"#f7d6bf\" stroke=\"#000000\" stroke-width=\"1.2\" points=\"406,-48 318,-48 318,0 406,0 406,-48\"/>\n",
       "<text text-anchor=\"middle\" x=\"362\" y=\"-39.2\" font-family=\"trebuchet\" font-size=\"11.00\" fill=\"#000000\">Class 0:</text>\n",
       "<text text-anchor=\"middle\" x=\"362\" y=\"-27.2\" font-family=\"trebuchet\" font-size=\"11.00\" fill=\"#000000\">\tP(0) = 0.7</text>\n",
       "<text text-anchor=\"middle\" x=\"362\" y=\"-15.2\" font-family=\"trebuchet\" font-size=\"11.00\" fill=\"#000000\">\tP(1) = 0.3</text>\n",
       "<text text-anchor=\"middle\" x=\"362\" y=\"-3.2\" font-family=\"trebuchet\" font-size=\"11.00\" fill=\"#000000\">samples: 3242</text>\n",
       "</g>\n",
       "<!-- 4&#45;&gt;6 -->\n",
       "<g id=\"edge6\" class=\"edge\">\n",
       "<title>4&#45;&gt;6</title>\n",
       "<path fill=\"none\" stroke=\"#000000\" stroke-width=\".6\" d=\"M283.0225,-102C314.4277,-102 362,-102 362,-102 362,-102 362,-58.2521 362,-58.2521\"/>\n",
       "<polygon fill=\"#000000\" stroke=\"#000000\" stroke-width=\".6\" points=\"365.5001,-58.2521 362,-48.2521 358.5001,-58.2522 365.5001,-58.2521\"/>\n",
       "<text text-anchor=\"middle\" x=\"331.8852\" y=\"-104.4\" font-family=\"Times,serif\" font-size=\"7.00\" fill=\"#000000\">&gt; 9.7364</text>\n",
       "</g>\n",
       "</g>\n",
       "</svg>\n"
      ],
      "text/plain": [
       "<graphviz.dot.Digraph at 0x12136a520>"
      ]
     },
     "metadata": {},
     "output_type": "display_data"
    },
    {
     "name": "stdout",
     "output_type": "stream",
     "text": [
      "Accuracy: 74.15% - n_samples: 11000\n"
     ]
    }
   ],
   "source": [
    "from IPython.display import display\n",
    "\n",
    "for i in range(len(df) // 1000 + 1):\n",
    "    chunk = itertools.islice(data, 1000)     # Get chunks of data from the stream\n",
    "    for x, y in chunk:\n",
    "        y_pred = model.predict_one(x)\n",
    "        metric.update(y_true=y, y_pred=y_pred)\n",
    "        model.learn_one(x, y)\n",
    "\n",
    "    print(f'{metric} - n_samples: {metric.cm.n_samples}')\n",
    "    display(model.draw())"
   ]
  },
  {
   "cell_type": "markdown",
   "metadata": {},
   "source": [
    "## Pipelines\n",
    "---\n",
    "\n",
    "Pipelines are powerful tools that \"chain\" a sequence of operations. \n",
    "\n",
    "For example, the logistic regression model is sensitive to the scale of the features. Scaling the data so that each feature has mean $\\mu=0$ and variance $\\sigma^2=1$ is generally considered good practice. This is provided by the `StandardScaler` method within the `preprocessing` module of `River`.\n",
    "\n",
    "We can apply the scaling and train the logistic regression sequentially in an elegant manner using a Pipeline.\n"
   ]
  },
  {
   "cell_type": "code",
   "execution_count": null,
   "metadata": {
    "slideshow": {
     "slide_type": "slide"
    },
    "tags": []
   },
   "outputs": [],
   "source": [
    "from river import linear_model\n",
    "from river import preprocessing\n",
    "from river import compose\n",
    "\n",
    "df = pd.read_csv(\"../datasets/NEweather.csv\")\n",
    "features = df.columns[:-2]\n",
    "stream = stream.iter_pandas(X=df[features], y=df['rain'])\n",
    "\n",
    "scaler = preprocessing.StandardScaler()\n",
    "pipeline = compose.Pipeline(\n",
    "    ('scale', preprocessing.StandardScaler()),\n",
    "    ('log_reg', linear_model.LogisticRegression())\n",
    ")\n",
    "\n",
    "metric = metrics.Accuracy()\n",
    "\n",
    "evaluate.progressive_val_score(dataset=stream,\n",
    "                               model=pipeline,\n",
    "                               metric=metric,\n",
    "                               print_every=1000)"
   ]
  },
  {
   "cell_type": "markdown",
   "metadata": {},
   "source": [
    "We can visualize the pipeline by simply calling itself."
   ]
  },
  {
   "cell_type": "code",
   "execution_count": null,
   "metadata": {
    "scrolled": true
   },
   "outputs": [],
   "source": [
    "pipeline"
   ]
  },
  {
   "cell_type": "markdown",
   "metadata": {},
   "source": [
    "## Regression\n",
    "---\n",
    "\n",
    "### Bike Sharing data set\n",
    "\n",
    "Contains the **hourly and daily count of rental bikes** between the years 2011 and 2012 in the Capital bike-share system with the corresponding weather and seasonal information. Attributes include weather, temperature, date, time, etc.\n",
    "\n",
    "|      Attribute      | Description |\n",
    "|:-------------------:|:-----------------------------------------------------------------|\n",
    "| `instant`             | record index\n",
    "| `dteday`              | date\n",
    "| `season`              | (1:winter, 2:spring, 3:summer, 4:fall)\n",
    "| `yr`                  | year (0: 2011, 1:2012)\n",
    "| `mnth`                | month ( 1 to 12)\n",
    "| `hr`                  | hour (0 to 23)\n",
    "| `holiday`             | weather day is holiday or not\n",
    "| `weekday`             | day of the week\n",
    "| `workingday`          | if day is neither weekend nor holiday is 1, otherwise is 0.\n",
    "| `weathersit`          | 1: Clear, Few clouds, Partly cloudy, Partly cloudy<br>2: Mist + Cloudy, Mist + Broken clouds, Mist + Few clouds, Mist<br>3: Light Snow, Light Rain + Thunderstorm + Scattered clouds, Light Rain + Scattered clouds<br>4: Heavy Rain + Ice Pallets + Thunderstorm + Mist, Snow + Fog\n",
    "| `temp`                | Normalized temperature in Celsius.\n",
    "| `atemp`               | Normalized feeling temperature in Celsius.\n",
    "| `hum`                 | Normalized humidity.\n",
    "| `windspeed`           | Normalized wind speed.\n",
    "| `casual`              | count of casual users\n",
    "| `registered`          | count of registered users\n",
    "\n",
    "**Target:** `cnt` | number of bikes rented including both casual and registered\n",
    " \n",
    "**Number of samples:** 17,389\n",
    "\n",
    "For this example we will use the k-nearest neighbor algorithm. The target value for a query sample is estimated by aggregating the target values of the k-neighbors on a sliding window."
   ]
  },
  {
   "cell_type": "code",
   "execution_count": null,
   "metadata": {},
   "outputs": [],
   "source": [
    "from river import neighbors\n",
    "from river.stream import iter_pandas\n",
    "\n",
    "df = pd.read_csv(\"../datasets/bike.csv\")\n",
    "features = df.columns[:-2]\n",
    "\n",
    "data = iter_pandas(X=df[features], y=df['cnt'])\n",
    "model = neighbors.KNNRegressor(n_neighbors=3, window_size=100)\n",
    "metric = metrics.R2()\n",
    "\n",
    "evaluate.progressive_val_score(dataset=data,\n",
    "                               model=model,\n",
    "                               metric=metric,\n",
    "                               print_every=1000)"
   ]
  },
  {
   "cell_type": "markdown",
   "metadata": {},
   "source": [
    "The k-nearest neighbor algorithm assumes that all the features are numeric.\n",
    "\n",
    "In the `bike` data, there are some categorical features. We can easily filter them in a pipeline:"
   ]
  },
  {
   "cell_type": "code",
   "execution_count": null,
   "metadata": {},
   "outputs": [],
   "source": [
    "data = iter_pandas(X=df[features], y=df['cnt'])\n",
    "pipeline = (\n",
    "    compose.Discard('season', 'mnth', 'weekday', 'weathersit') |\n",
    "    neighbors.KNNRegressor(n_neighbors=3, window_size=100)\n",
    ")\n",
    "metric = metrics.R2()\n",
    "\n",
    "evaluate.progressive_val_score(dataset=data,\n",
    "                               model=pipeline,\n",
    "                               metric=metric,\n",
    "                               print_every=1000)"
   ]
  },
  {
   "cell_type": "code",
   "execution_count": null,
   "metadata": {},
   "outputs": [],
   "source": [
    "pipeline"
   ]
  },
  {
   "cell_type": "markdown",
   "metadata": {
    "slideshow": {
     "slide_type": "slide"
    }
   },
   "source": [
    "## Concept Drift\n",
    "---\n",
    "\n",
    "Dynamic environments are challenging for machine learning methods because data changes over time.\n",
    "\n",
    "For this example, we will generate a synthetic data stream by concatenating data from 3 different distributions:\n",
    "- $dist_a$: $\\mu=0.8$, $\\sigma=0.05$\n",
    "- $dist_b$: $\\mu=0.4$, $\\sigma=0.02$\n",
    "- $dist_c$: $\\mu=0.6$, $\\sigma=0.1$."
   ]
  },
  {
   "cell_type": "code",
   "execution_count": null,
   "metadata": {},
   "outputs": [],
   "source": [
    "import numpy as np\n",
    "from utils import plot_data\n",
    "\n",
    "# Generate data for 3 distributions\n",
    "random_state = np.random.RandomState(seed=42)\n",
    "dist_a = random_state.normal(0.8, 0.05, 1000)\n",
    "dist_b = random_state.normal(0.4, 0.02, 1000)\n",
    "dist_c = random_state.normal(0.6, 0.1, 1000)\n",
    "\n",
    "# Concatenate data to simulate a data stream with 2 drifts\n",
    "data = np.concatenate((dist_a, dist_b, dist_c))\n",
    "\n",
    "\n",
    "plot_data(dist_a, dist_b, dist_c)"
   ]
  },
  {
   "cell_type": "markdown",
   "metadata": {
    "slideshow": {
     "slide_type": "slide"
    }
   },
   "source": [
    "As observed above, the synthetic data stream has 3 **abrupt drifts**. An analogy could be trending topics on Twitter which can change quickly.\n",
    "\n",
    "The goal is to detect that drift has occurred, after samples **1000** and **2000** in the synthetic data stream.\n",
    "\n",
    "In this example, we will use the ADaptive WINdowing (`ADWIN`) drift detection method.\n",
    "\n"
   ]
  },
  {
   "cell_type": "code",
   "execution_count": null,
   "metadata": {
    "slideshow": {
     "slide_type": "-"
    }
   },
   "outputs": [],
   "source": [
    "from river import drift\n",
    "\n",
    "drift_detector = drift.ADWIN()\n",
    "drifts = []\n",
    "\n",
    "for i, val in enumerate(data):\n",
    "    drift_detector.update(val)           # Data is processed one sample at a time\n",
    "    if drift_detector.change_detected:\n",
    "        print(f'Change detected at index {i}')\n",
    "        drifts.append(i)\n",
    "        drift_detector.reset()           # As a best practice, we reset the detector\n",
    "\n",
    "plot_data(dist_a, dist_b, dist_c, drifts)"
   ]
  },
  {
   "cell_type": "markdown",
   "metadata": {
    "slideshow": {
     "slide_type": "slide"
    }
   },
   "source": [
    "### Impact on predictive performance\n",
    "\n",
    "Concept drift can negatively impact learning methods if not properly handled. Multiple real-world applications suffer **model degradation** as the models can not adapt to changes in the data.\n",
    "\n",
    "In this example, we will use two popular streaming models:\n",
    "\n",
    "1. The `Hoeffding Tree`\n",
    "2. The `Hoeffding Adaptive Tree`\n",
    "\n",
    "The `Hoeffding Adaptive Tree` uses `ADWIN` to detect changes. If change is detected in a given branch, an alternate branch is created and eventually replaces the original branch if it shows better performance on new data.\n",
    "\n",
    "---\n",
    "### `AGRAWAL` dataset\n",
    "\n",
    "We will load the data from a csv file. The data was generated using the `AGRAWAL` data generator with 3 **gradual drifts** at the 5k, 10k, and 15k marks.\n",
    "\n",
    "The `AGRAWAL` synthetic data generator produces 9 features, 6 numeric and 3 categorical.\n",
    "\n",
    "There are 10 functions for generating binary class labels from the features. These functions determine whether a **loan** should be approved.\n",
    "\n",
    "| Feature    | Description            | Values                                                                |\n",
    "|------------|------------------------|-----------------------------------------------------------------------|\n",
    "| `salary`     | salary                 | uniformly distributed from 20k to 150k                                |\n",
    "| `commission` | commission             | if (salary <   75k) then 0 else uniformly distributed from 10k to 75k |\n",
    "| `age`        | age                    | uniformly distributed from 20 to 80                                   |\n",
    "| `elevel`     | education level        | uniformly chosen from 0 to 4                                          |\n",
    "| `car`        | car maker              | uniformly chosen from 1 to 20                                         |\n",
    "| `zipcode`    | zip code of the town   | uniformly chosen from 0 to 8                                          |\n",
    "| `hvalue`     | value of the house     | uniformly distributed from 50k x zipcode to 100k x zipcode            |\n",
    "| `hyears`     | years house owned      | uniformly distributed from 1 to 30                                    |\n",
    "| `loan`       | total loan amount      | uniformly distributed from 0 to 500k                                  |\n",
    "\n",
    "**Class:** `y` | 0: no loan, 1: loan\n",
    " \n",
    "**Samples:** 20,000\n",
    "\n",
    "`elevel`, `car`, and `zipcode` are categorical features."
   ]
  },
  {
   "cell_type": "code",
   "execution_count": null,
   "metadata": {},
   "outputs": [],
   "source": [
    "df = pd.read_csv(\"../datasets/agr_a_20k.csv\")\n",
    "features = df.columns[:-2]\n",
    "\n",
    "data = iter_pandas(X=df[features], y=df['class'])\n",
    "model = tree.HoeffdingTreeClassifier(nominal_attributes=['elevel', 'car', 'zipcode'])\n",
    "metric = metrics.Accuracy()\n",
    "\n",
    "evaluate.progressive_val_score(dataset=data,\n",
    "                               model=model,\n",
    "                               metric=metric,\n",
    "                               show_memory=True,\n",
    "                               print_every=1000)"
   ]
  },
  {
   "cell_type": "code",
   "execution_count": null,
   "metadata": {},
   "outputs": [],
   "source": [
    "model.draw()"
   ]
  },
  {
   "cell_type": "code",
   "execution_count": null,
   "metadata": {},
   "outputs": [],
   "source": [
    "df = pd.read_csv(\"../datasets/agr_a_20k.csv\")\n",
    "features = df.columns[:-2]\n",
    "\n",
    "data = iter_pandas(X=df[features], y=df['class'])\n",
    "model = tree.HoeffdingAdaptiveTreeClassifier(nominal_attributes=['elevel', 'car', 'zipcode'], seed=42)\n",
    "metric = metrics.Accuracy()\n",
    "\n",
    "evaluate.progressive_val_score(dataset=data,\n",
    "                               model=model,\n",
    "                               metric=metric,\n",
    "                               show_memory=True,\n",
    "                               print_every=1000)"
   ]
  },
  {
   "cell_type": "code",
   "execution_count": null,
   "metadata": {},
   "outputs": [],
   "source": [
    "model.draw()"
   ]
  },
  {
   "cell_type": "code",
   "execution_count": null,
   "metadata": {},
   "outputs": [],
   "source": [
    "from river.tree import HoeffdingAdaptiveTreeClassifier\n",
    "from river.stream import iter_pandas\n",
    "from river.metrics import Accuracy\n",
    "\n",
    "import pandas as pd\n",
    "\n",
    "data = pd.read_csv(\"../datasets/agr_a_20k.csv\")\n",
    "features = data.columns[:-2]\n",
    "stream = iter_pandas(X=data[features], y=data['class'])\n",
    "model = HoeffdingAdaptiveTreeClassifier(nominal_attributes=['elevel', 'car', 'zipcode'], \n",
    "                                        seed=42)\n",
    "metric = Accuracy()\n",
    "\n",
    "evaluate.progressive_val_score(dataset=stream, \n",
    "                               model=model, \n",
    "                               metric=metric, \n",
    "                               print_every=1000)"
   ]
  },
  {
   "cell_type": "code",
   "execution_count": null,
   "metadata": {},
   "outputs": [],
   "source": [
    "model.draw()"
   ]
  }
 ],
 "metadata": {
  "anaconda-cloud": {},
  "kernelspec": {
   "display_name": "river",
   "language": "python",
   "name": "river"
  },
  "language_info": {
   "codemirror_mode": {
    "name": "ipython",
    "version": 3
   },
   "file_extension": ".py",
   "mimetype": "text/x-python",
   "name": "python",
   "nbconvert_exporter": "python",
   "pygments_lexer": "ipython3",
   "version": "3.8.8"
  }
 },
 "nbformat": 4,
 "nbformat_minor": 4
}
