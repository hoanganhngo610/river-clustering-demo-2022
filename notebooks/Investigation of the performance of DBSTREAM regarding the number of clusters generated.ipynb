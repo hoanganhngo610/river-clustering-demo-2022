{
 "cells": [
  {
   "cell_type": "code",
   "execution_count": 1,
   "id": "83f7eced",
   "metadata": {},
   "outputs": [],
   "source": [
    "import pandas as pd \n",
    "import time\n",
    "from river import cluster, metrics\n",
    "from river.stream import iter_pandas\n",
    "\n",
    "from tqdm import tqdm"
   ]
  },
  {
   "cell_type": "code",
   "execution_count": 2,
   "id": "6c516ea2",
   "metadata": {},
   "outputs": [],
   "source": [
    "data = pd.read_csv(\"../datasets/agr_a_20k.csv\")\n",
    "features = data.columns[:-2]\n",
    "stream = iter_pandas(X=data[features], y=data['class'])"
   ]
  },
  {
   "cell_type": "code",
   "execution_count": 3,
   "id": "14f95139",
   "metadata": {},
   "outputs": [],
   "source": [
    "data_1 = data[:1000]\n",
    "stream_1 = iter_pandas(X=data_1[features], y=data_1['class'])\n",
    "\n",
    "data_2 = data[:10000]\n",
    "stream_2 = iter_pandas(X=data_2[features], y=data_2['class'])"
   ]
  },
  {
   "cell_type": "code",
   "execution_count": 4,
   "id": "806e29ef",
   "metadata": {},
   "outputs": [],
   "source": [
    "dbstream_1 = cluster.DBSTREAM(clustering_threshold=0.1,\n",
    "                              fading_factor=0.05,\n",
    "                              cleanup_interval=20,\n",
    "                              intersection_factor=0.6,\n",
    "                              minimum_weight=2.5)\n",
    "dbstream_2 = cluster.DBSTREAM(clustering_threshold=0.1,\n",
    "                              fading_factor=0.05,\n",
    "                              cleanup_interval=20,\n",
    "                              intersection_factor=0.6,\n",
    "                              minimum_weight=2.5)\n",
    "dbstream = cluster.DBSTREAM(clustering_threshold=0.1,\n",
    "                            fading_factor=0.05,\n",
    "                            cleanup_interval=20,\n",
    "                            intersection_factor=0.6,\n",
    "                            minimum_weight=2.5)"
   ]
  },
  {
   "cell_type": "code",
   "execution_count": 5,
   "id": "9a83ca6a",
   "metadata": {},
   "outputs": [
    {
     "name": "stderr",
     "output_type": "stream",
     "text": [
      "20000it [06:00, 55.55it/s]\n",
      "1000it [00:02, 491.28it/s]\n",
      "10000it [02:36, 63.84it/s]\n"
     ]
    },
    {
     "data": {
      "text/plain": [
       "10"
      ]
     },
     "execution_count": 5,
     "metadata": {},
     "output_type": "execute_result"
    }
   ],
   "source": [
    "for _, (x, y_true) in enumerate(tqdm(stream)):\n",
    "    dbstream.learn_one(x)\n",
    "\n",
    "dbstream.predict_one(x)\n",
    "\n",
    "for _, (x_1, y_true_1) in enumerate(tqdm(stream_1)):\n",
    "    dbstream_1.learn_one(x_1)\n",
    "\n",
    "dbstream_1.predict_one(x_1)\n",
    "    \n",
    "for _, (x_2, y_true_2) in enumerate(tqdm(stream_2)):\n",
    "    dbstream_2.learn_one(x_2)\n",
    "\n",
    "dbstream_2.predict_one(x_2)"
   ]
  },
  {
   "cell_type": "code",
   "execution_count": 6,
   "id": "adc1499f",
   "metadata": {},
   "outputs": [
    {
     "data": {
      "text/plain": [
       "5009"
      ]
     },
     "execution_count": 6,
     "metadata": {},
     "output_type": "execute_result"
    }
   ],
   "source": [
    "dbstream.n_clusters"
   ]
  },
  {
   "cell_type": "code",
   "execution_count": 7,
   "id": "901898f5",
   "metadata": {
    "scrolled": true
   },
   "outputs": [
    {
     "data": {
      "text/plain": [
       "1000"
      ]
     },
     "execution_count": 7,
     "metadata": {},
     "output_type": "execute_result"
    }
   ],
   "source": [
    "dbstream_1.n_clusters"
   ]
  },
  {
   "cell_type": "code",
   "execution_count": 8,
   "id": "09d513ef",
   "metadata": {
    "scrolled": true
   },
   "outputs": [
    {
     "data": {
      "text/plain": [
       "4997"
      ]
     },
     "execution_count": 8,
     "metadata": {},
     "output_type": "execute_result"
    }
   ],
   "source": [
    "dbstream_2.n_clusters"
   ]
  }
 ],
 "metadata": {
  "kernelspec": {
   "display_name": "river_extra",
   "language": "python",
   "name": "river_extra"
  },
  "language_info": {
   "codemirror_mode": {
    "name": "ipython",
    "version": 3
   },
   "file_extension": ".py",
   "mimetype": "text/x-python",
   "name": "python",
   "nbconvert_exporter": "python",
   "pygments_lexer": "ipython3",
   "version": "3.9.13"
  }
 },
 "nbformat": 4,
 "nbformat_minor": 5
}
